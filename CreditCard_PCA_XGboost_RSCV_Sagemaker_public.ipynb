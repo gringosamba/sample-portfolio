{
 "cells": [
  {
   "cell_type": "markdown",
   "id": "split-arbitration",
   "metadata": {},
   "source": [
    "RLudwig: This notebook contains a credit card portfolio of past due accounts for a probability of payment prediction model that was obtained by using Amazon Sagemaker. First I performed a Principal Component Analysis(PCA) reduction followed by utilizing the XGboost algorithm with a binary logistic objective and Area under the Curve (AUC) key metric. Hyperparameter tuning was performed using random search. Predictions were made on the best performing model utilizing AWS Batch Transform.  "
   ]
  },
  {
   "cell_type": "code",
   "execution_count": 1,
   "id": "verified-florist",
   "metadata": {},
   "outputs": [
    {
     "name": "stderr",
     "output_type": "stream",
     "text": [
      "Matplotlib is building the font cache; this may take a moment.\n"
     ]
    }
   ],
   "source": [
    "import pandas as pd\n",
    "import numpy as np\n",
    "import os\n",
    "import seaborn as sns\n",
    "import matplotlib.pyplot as plt\n",
    "import sagemaker\n",
    "import boto3\n",
    "import io  \n",
    "import sagemaker.amazon.common as smac # sagemaker common libary\n",
    "from sklearn.metrics import confusion_matrix\n",
    "from sklearn.metrics import roc_curve, auc, roc_auc_score\n",
    "from sklearn.impute import SimpleImputer\n",
    "from sklearn.model_selection import train_test_split\n",
    "from sklearn.preprocessing import StandardScaler\n",
    "from sklearn.decomposition import PCA\n",
    "from sklearn.utils import shuffle\n"
   ]
  },
  {
   "cell_type": "code",
   "execution_count": 2,
   "id": "signal-natural",
   "metadata": {},
   "outputs": [],
   "source": [
    "df = pd.read_stata(\"cc_oa_carga_historica_pythn_prjct.dta\")"
   ]
  },
  {
   "cell_type": "markdown",
   "id": "military-reserve",
   "metadata": {},
   "source": [
    "clean up pago_general column to get 0 for no payment and 1 for payment"
   ]
  },
  {
   "cell_type": "code",
   "execution_count": 3,
   "id": "traditional-murder",
   "metadata": {},
   "outputs": [],
   "source": [
    "df['pago_general'] = df['pago_general'].replace(['master only (1)'],'1')"
   ]
  },
  {
   "cell_type": "code",
   "execution_count": 4,
   "id": "nervous-moses",
   "metadata": {},
   "outputs": [],
   "source": [
    "df['pago_general'] = pd.to_numeric(df['pago_general'], errors='coerce')"
   ]
  },
  {
   "cell_type": "code",
   "execution_count": 5,
   "id": "baking-mason",
   "metadata": {},
   "outputs": [
    {
     "data": {
      "text/html": [
       "<div>\n",
       "<style scoped>\n",
       "    .dataframe tbody tr th:only-of-type {\n",
       "        vertical-align: middle;\n",
       "    }\n",
       "\n",
       "    .dataframe tbody tr th {\n",
       "        vertical-align: top;\n",
       "    }\n",
       "\n",
       "    .dataframe thead th {\n",
       "        text-align: right;\n",
       "    }\n",
       "</style>\n",
       "<table border=\"1\" class=\"dataframe\">\n",
       "  <thead>\n",
       "    <tr style=\"text-align: right;\">\n",
       "      <th></th>\n",
       "      <th>location</th>\n",
       "      <th>banco</th>\n",
       "      <th>agencia</th>\n",
       "      <th>dir_reg</th>\n",
       "      <th>dt_nasc</th>\n",
       "      <th>uf</th>\n",
       "      <th>iden_tel1</th>\n",
       "      <th>ddd_tel1</th>\n",
       "      <th>iden_tel2</th>\n",
       "      <th>ddd_tel2</th>\n",
       "      <th>...</th>\n",
       "      <th>saldo_ccmrcl6</th>\n",
       "      <th>mesasig</th>\n",
       "      <th>dataasig</th>\n",
       "      <th>pj</th>\n",
       "      <th>cnpj15</th>\n",
       "      <th>cpf11</th>\n",
       "      <th>cpfcnpj15</th>\n",
       "      <th>valorpagamento</th>\n",
       "      <th>datapagamento</th>\n",
       "      <th>pago_general</th>\n",
       "    </tr>\n",
       "  </thead>\n",
       "  <tbody>\n",
       "    <tr>\n",
       "      <th>0</th>\n",
       "      <td>010102</td>\n",
       "      <td>237</td>\n",
       "      <td>0313</td>\n",
       "      <td>4354</td>\n",
       "      <td>20/01/1994</td>\n",
       "      <td>SP</td>\n",
       "      <td>X</td>\n",
       "      <td>00</td>\n",
       "      <td>V</td>\n",
       "      <td>11</td>\n",
       "      <td>...</td>\n",
       "      <td>741.700012</td>\n",
       "      <td>201902</td>\n",
       "      <td>2019-02-27</td>\n",
       "      <td>1.0</td>\n",
       "      <td>000001813000104</td>\n",
       "      <td>00000181304</td>\n",
       "      <td>000001813000104</td>\n",
       "      <td>2369.94</td>\n",
       "      <td>22/01/2019</td>\n",
       "      <td>1</td>\n",
       "    </tr>\n",
       "    <tr>\n",
       "      <th>1</th>\n",
       "      <td>101010</td>\n",
       "      <td></td>\n",
       "      <td>00309</td>\n",
       "      <td></td>\n",
       "      <td>19/02/1963</td>\n",
       "      <td>RJ</td>\n",
       "      <td>V</td>\n",
       "      <td>21</td>\n",
       "      <td>X</td>\n",
       "      <td>00</td>\n",
       "      <td>...</td>\n",
       "      <td>0.000000</td>\n",
       "      <td>201901</td>\n",
       "      <td>2019-01-31</td>\n",
       "      <td>0.0</td>\n",
       "      <td>000002457000004</td>\n",
       "      <td>00000245704</td>\n",
       "      <td>00000000245704</td>\n",
       "      <td>NaN</td>\n",
       "      <td></td>\n",
       "      <td>0</td>\n",
       "    </tr>\n",
       "    <tr>\n",
       "      <th>2</th>\n",
       "      <td>101010</td>\n",
       "      <td></td>\n",
       "      <td>00685</td>\n",
       "      <td></td>\n",
       "      <td>23/12/1982</td>\n",
       "      <td>CE</td>\n",
       "      <td>X</td>\n",
       "      <td>00</td>\n",
       "      <td>X</td>\n",
       "      <td>00</td>\n",
       "      <td>...</td>\n",
       "      <td>0.000000</td>\n",
       "      <td>201812</td>\n",
       "      <td>2018-12-11</td>\n",
       "      <td>0.0</td>\n",
       "      <td>000002683000021</td>\n",
       "      <td>00000268321</td>\n",
       "      <td>00000000268321</td>\n",
       "      <td>NaN</td>\n",
       "      <td></td>\n",
       "      <td>0</td>\n",
       "    </tr>\n",
       "    <tr>\n",
       "      <th>3</th>\n",
       "      <td>101010</td>\n",
       "      <td></td>\n",
       "      <td>00679</td>\n",
       "      <td></td>\n",
       "      <td>15/02/1986</td>\n",
       "      <td>PA</td>\n",
       "      <td>X</td>\n",
       "      <td>00</td>\n",
       "      <td>X</td>\n",
       "      <td>00</td>\n",
       "      <td>...</td>\n",
       "      <td>0.000000</td>\n",
       "      <td>201901</td>\n",
       "      <td>2019-01-28</td>\n",
       "      <td>0.0</td>\n",
       "      <td>000003672000022</td>\n",
       "      <td>00000367222</td>\n",
       "      <td>00000000367222</td>\n",
       "      <td>368.74</td>\n",
       "      <td>01/02/2019</td>\n",
       "      <td>1</td>\n",
       "    </tr>\n",
       "    <tr>\n",
       "      <th>4</th>\n",
       "      <td>101010</td>\n",
       "      <td></td>\n",
       "      <td>04025</td>\n",
       "      <td></td>\n",
       "      <td>17/06/1963</td>\n",
       "      <td>RJ</td>\n",
       "      <td>X</td>\n",
       "      <td>00</td>\n",
       "      <td>X</td>\n",
       "      <td>00</td>\n",
       "      <td>...</td>\n",
       "      <td>0.000000</td>\n",
       "      <td>201901</td>\n",
       "      <td>2019-01-04</td>\n",
       "      <td>0.0</td>\n",
       "      <td>000004527000069</td>\n",
       "      <td>00000452769</td>\n",
       "      <td>00000000452769</td>\n",
       "      <td>NaN</td>\n",
       "      <td></td>\n",
       "      <td>0</td>\n",
       "    </tr>\n",
       "  </tbody>\n",
       "</table>\n",
       "<p>5 rows × 51 columns</p>\n",
       "</div>"
      ],
      "text/plain": [
       "  location banco agencia dir_reg     dt_nasc  uf iden_tel1 ddd_tel1 iden_tel2  \\\n",
       "0   010102   237    0313    4354  20/01/1994  SP         X       00         V   \n",
       "1   101010         00309          19/02/1963  RJ         V       21         X   \n",
       "2   101010         00685          23/12/1982  CE         X       00         X   \n",
       "3   101010         00679          15/02/1986  PA         X       00         X   \n",
       "4   101010         04025          17/06/1963  RJ         X       00         X   \n",
       "\n",
       "  ddd_tel2  ... saldo_ccmrcl6 mesasig   dataasig   pj           cnpj15  \\\n",
       "0       11  ...    741.700012  201902 2019-02-27  1.0  000001813000104   \n",
       "1       00  ...      0.000000  201901 2019-01-31  0.0  000002457000004   \n",
       "2       00  ...      0.000000  201812 2018-12-11  0.0  000002683000021   \n",
       "3       00  ...      0.000000  201901 2019-01-28  0.0  000003672000022   \n",
       "4       00  ...      0.000000  201901 2019-01-04  0.0  000004527000069   \n",
       "\n",
       "         cpf11        cpfcnpj15 valorpagamento datapagamento pago_general  \n",
       "0  00000181304  000001813000104        2369.94    22/01/2019            1  \n",
       "1  00000245704   00000000245704            NaN                          0  \n",
       "2  00000268321   00000000268321            NaN                          0  \n",
       "3  00000367222   00000000367222         368.74    01/02/2019            1  \n",
       "4  00000452769   00000000452769            NaN                          0  \n",
       "\n",
       "[5 rows x 51 columns]"
      ]
     },
     "execution_count": 5,
     "metadata": {},
     "output_type": "execute_result"
    }
   ],
   "source": [
    "df.head()"
   ]
  },
  {
   "cell_type": "code",
   "execution_count": 6,
   "id": "german-malta",
   "metadata": {},
   "outputs": [
    {
     "data": {
      "text/html": [
       "<div>\n",
       "<style scoped>\n",
       "    .dataframe tbody tr th:only-of-type {\n",
       "        vertical-align: middle;\n",
       "    }\n",
       "\n",
       "    .dataframe tbody tr th {\n",
       "        vertical-align: top;\n",
       "    }\n",
       "\n",
       "    .dataframe thead th {\n",
       "        text-align: right;\n",
       "    }\n",
       "</style>\n",
       "<table border=\"1\" class=\"dataframe\">\n",
       "  <thead>\n",
       "    <tr style=\"text-align: right;\">\n",
       "      <th></th>\n",
       "      <th>vl_vcto_cor</th>\n",
       "      <th>resp_contr</th>\n",
       "      <th>resp_cliente</th>\n",
       "      <th>dias_atraso</th>\n",
       "      <th>saldo_totcli6</th>\n",
       "      <th>saldo_cart6</th>\n",
       "      <th>saldo_ccmrcl6</th>\n",
       "      <th>pj</th>\n",
       "      <th>valorpagamento</th>\n",
       "      <th>pago_general</th>\n",
       "    </tr>\n",
       "  </thead>\n",
       "  <tbody>\n",
       "    <tr>\n",
       "      <th>count</th>\n",
       "      <td>3.063470e+05</td>\n",
       "      <td>306347.000000</td>\n",
       "      <td>306347.000000</td>\n",
       "      <td>306347.000000</td>\n",
       "      <td>3.063470e+05</td>\n",
       "      <td>3.063470e+05</td>\n",
       "      <td>3.063470e+05</td>\n",
       "      <td>306347.000000</td>\n",
       "      <td>115388.000000</td>\n",
       "      <td>306347.000000</td>\n",
       "    </tr>\n",
       "    <tr>\n",
       "      <th>mean</th>\n",
       "      <td>1.445289e+03</td>\n",
       "      <td>1242.849435</td>\n",
       "      <td>4278.905676</td>\n",
       "      <td>14.282180</td>\n",
       "      <td>4.030688e+03</td>\n",
       "      <td>1.557948e+03</td>\n",
       "      <td>2.472626e+03</td>\n",
       "      <td>0.168117</td>\n",
       "      <td>1086.804070</td>\n",
       "      <td>0.376658</td>\n",
       "    </tr>\n",
       "    <tr>\n",
       "      <th>std</th>\n",
       "      <td>8.541782e+03</td>\n",
       "      <td>13806.790601</td>\n",
       "      <td>31265.528131</td>\n",
       "      <td>11.003552</td>\n",
       "      <td>2.750265e+04</td>\n",
       "      <td>9.018295e+03</td>\n",
       "      <td>2.524375e+04</td>\n",
       "      <td>0.372949</td>\n",
       "      <td>3069.818025</td>\n",
       "      <td>0.484549</td>\n",
       "    </tr>\n",
       "    <tr>\n",
       "      <th>min</th>\n",
       "      <td>4.900000e+01</td>\n",
       "      <td>0.000000</td>\n",
       "      <td>0.000000</td>\n",
       "      <td>5.000000</td>\n",
       "      <td>4.935000e+01</td>\n",
       "      <td>0.000000e+00</td>\n",
       "      <td>0.000000e+00</td>\n",
       "      <td>0.000000</td>\n",
       "      <td>0.000000</td>\n",
       "      <td>0.000000</td>\n",
       "    </tr>\n",
       "    <tr>\n",
       "      <th>25%</th>\n",
       "      <td>2.290000e+02</td>\n",
       "      <td>0.000000</td>\n",
       "      <td>0.000000</td>\n",
       "      <td>7.000000</td>\n",
       "      <td>3.109400e+02</td>\n",
       "      <td>1.859900e+02</td>\n",
       "      <td>0.000000e+00</td>\n",
       "      <td>0.000000</td>\n",
       "      <td>187.710000</td>\n",
       "      <td>0.000000</td>\n",
       "    </tr>\n",
       "    <tr>\n",
       "      <th>50%</th>\n",
       "      <td>5.210000e+02</td>\n",
       "      <td>0.000000</td>\n",
       "      <td>0.000000</td>\n",
       "      <td>10.000000</td>\n",
       "      <td>7.282500e+02</td>\n",
       "      <td>5.028900e+02</td>\n",
       "      <td>0.000000e+00</td>\n",
       "      <td>0.000000</td>\n",
       "      <td>442.305000</td>\n",
       "      <td>0.000000</td>\n",
       "    </tr>\n",
       "    <tr>\n",
       "      <th>75%</th>\n",
       "      <td>1.093000e+03</td>\n",
       "      <td>0.000000</td>\n",
       "      <td>0.000000</td>\n",
       "      <td>16.000000</td>\n",
       "      <td>1.771610e+03</td>\n",
       "      <td>1.127645e+03</td>\n",
       "      <td>2.821950e+02</td>\n",
       "      <td>0.000000</td>\n",
       "      <td>1022.640000</td>\n",
       "      <td>1.000000</td>\n",
       "    </tr>\n",
       "    <tr>\n",
       "      <th>max</th>\n",
       "      <td>3.290767e+06</td>\n",
       "      <td>599958.000000</td>\n",
       "      <td>599958.000000</td>\n",
       "      <td>120.000000</td>\n",
       "      <td>3.290767e+06</td>\n",
       "      <td>3.290767e+06</td>\n",
       "      <td>2.944226e+06</td>\n",
       "      <td>1.000000</td>\n",
       "      <td>329000.000000</td>\n",
       "      <td>1.000000</td>\n",
       "    </tr>\n",
       "  </tbody>\n",
       "</table>\n",
       "</div>"
      ],
      "text/plain": [
       "        vl_vcto_cor     resp_contr   resp_cliente    dias_atraso  \\\n",
       "count  3.063470e+05  306347.000000  306347.000000  306347.000000   \n",
       "mean   1.445289e+03    1242.849435    4278.905676      14.282180   \n",
       "std    8.541782e+03   13806.790601   31265.528131      11.003552   \n",
       "min    4.900000e+01       0.000000       0.000000       5.000000   \n",
       "25%    2.290000e+02       0.000000       0.000000       7.000000   \n",
       "50%    5.210000e+02       0.000000       0.000000      10.000000   \n",
       "75%    1.093000e+03       0.000000       0.000000      16.000000   \n",
       "max    3.290767e+06  599958.000000  599958.000000     120.000000   \n",
       "\n",
       "       saldo_totcli6   saldo_cart6  saldo_ccmrcl6             pj  \\\n",
       "count   3.063470e+05  3.063470e+05   3.063470e+05  306347.000000   \n",
       "mean    4.030688e+03  1.557948e+03   2.472626e+03       0.168117   \n",
       "std     2.750265e+04  9.018295e+03   2.524375e+04       0.372949   \n",
       "min     4.935000e+01  0.000000e+00   0.000000e+00       0.000000   \n",
       "25%     3.109400e+02  1.859900e+02   0.000000e+00       0.000000   \n",
       "50%     7.282500e+02  5.028900e+02   0.000000e+00       0.000000   \n",
       "75%     1.771610e+03  1.127645e+03   2.821950e+02       0.000000   \n",
       "max     3.290767e+06  3.290767e+06   2.944226e+06       1.000000   \n",
       "\n",
       "       valorpagamento   pago_general  \n",
       "count   115388.000000  306347.000000  \n",
       "mean      1086.804070       0.376658  \n",
       "std       3069.818025       0.484549  \n",
       "min          0.000000       0.000000  \n",
       "25%        187.710000       0.000000  \n",
       "50%        442.305000       0.000000  \n",
       "75%       1022.640000       1.000000  \n",
       "max     329000.000000       1.000000  "
      ]
     },
     "execution_count": 6,
     "metadata": {},
     "output_type": "execute_result"
    }
   ],
   "source": [
    "df.describe()"
   ]
  },
  {
   "cell_type": "code",
   "execution_count": 7,
   "id": "departmental-suspect",
   "metadata": {},
   "outputs": [
    {
     "data": {
      "text/plain": [
       "Index(['location', 'banco', 'agencia', 'dir_reg', 'dt_nasc', 'uf', 'iden_tel1',\n",
       "       'ddd_tel1', 'iden_tel2', 'ddd_tel2', 'iden_tel3', 'ddd_tel3',\n",
       "       'iden_tel4', 'ddd_tel4', 'iden_tel5', 'ddd_tel5', 'iden_tel6',\n",
       "       'ddd_tel6', 'rating', 'dt_desde', 'nat_oper', 'carteira', 'vcto_antig',\n",
       "       'vl_vcto_cor', 'resp_contr', 'resp_cliente', 'ident_seg', 'produto',\n",
       "       'subproduto', 'familia', 'convenio', 'bs1', 'cs1', 'ct1',\n",
       "       'num_contrato', 'dias_atraso', 'data_lig', 'term_code', 'cont_lig',\n",
       "       'saldo_totcli6', 'saldo_cart6', 'saldo_ccmrcl6', 'mesasig', 'dataasig',\n",
       "       'pj', 'cnpj15', 'cpf11', 'cpfcnpj15', 'valorpagamento', 'datapagamento',\n",
       "       'pago_general'],\n",
       "      dtype='object')"
      ]
     },
     "execution_count": 7,
     "metadata": {},
     "output_type": "execute_result"
    }
   ],
   "source": [
    "df.columns"
   ]
  },
  {
   "cell_type": "code",
   "execution_count": 8,
   "id": "every-general",
   "metadata": {},
   "outputs": [
    {
     "name": "stdout",
     "output_type": "stream",
     "text": [
      "<class 'pandas.core.frame.DataFrame'>\n",
      "Int64Index: 306347 entries, 0 to 306346\n",
      "Data columns (total 51 columns):\n",
      " #   Column          Non-Null Count   Dtype         \n",
      "---  ------          --------------   -----         \n",
      " 0   location        306347 non-null  object        \n",
      " 1   banco           306347 non-null  object        \n",
      " 2   agencia         306347 non-null  object        \n",
      " 3   dir_reg         306347 non-null  object        \n",
      " 4   dt_nasc         306347 non-null  object        \n",
      " 5   uf              306347 non-null  object        \n",
      " 6   iden_tel1       306347 non-null  object        \n",
      " 7   ddd_tel1        306347 non-null  object        \n",
      " 8   iden_tel2       306347 non-null  object        \n",
      " 9   ddd_tel2        306347 non-null  object        \n",
      " 10  iden_tel3       306347 non-null  object        \n",
      " 11  ddd_tel3        306347 non-null  object        \n",
      " 12  iden_tel4       306347 non-null  object        \n",
      " 13  ddd_tel4        306347 non-null  object        \n",
      " 14  iden_tel5       306347 non-null  object        \n",
      " 15  ddd_tel5        306347 non-null  object        \n",
      " 16  iden_tel6       306347 non-null  object        \n",
      " 17  ddd_tel6        306347 non-null  object        \n",
      " 18  rating          306347 non-null  object        \n",
      " 19  dt_desde        306347 non-null  object        \n",
      " 20  nat_oper        306347 non-null  object        \n",
      " 21  carteira        306347 non-null  object        \n",
      " 22  vcto_antig      306347 non-null  object        \n",
      " 23  vl_vcto_cor     306347 non-null  int32         \n",
      " 24  resp_contr      306347 non-null  int32         \n",
      " 25  resp_cliente    306347 non-null  int32         \n",
      " 26  ident_seg       306347 non-null  object        \n",
      " 27  produto         306347 non-null  object        \n",
      " 28  subproduto      306347 non-null  object        \n",
      " 29  familia         306347 non-null  object        \n",
      " 30  convenio        306347 non-null  object        \n",
      " 31  bs1             306347 non-null  object        \n",
      " 32  cs1             306347 non-null  object        \n",
      " 33  ct1             306347 non-null  object        \n",
      " 34  num_contrato    306347 non-null  object        \n",
      " 35  dias_atraso     306347 non-null  int16         \n",
      " 36  data_lig        306347 non-null  object        \n",
      " 37  term_code       306347 non-null  object        \n",
      " 38  cont_lig        306347 non-null  object        \n",
      " 39  saldo_totcli6   306347 non-null  float32       \n",
      " 40  saldo_cart6     306347 non-null  float32       \n",
      " 41  saldo_ccmrcl6   306347 non-null  float32       \n",
      " 42  mesasig         306347 non-null  object        \n",
      " 43  dataasig        306347 non-null  datetime64[ns]\n",
      " 44  pj              306347 non-null  float32       \n",
      " 45  cnpj15          306347 non-null  object        \n",
      " 46  cpf11           306347 non-null  object        \n",
      " 47  cpfcnpj15       306347 non-null  object        \n",
      " 48  valorpagamento  115388 non-null  float64       \n",
      " 49  datapagamento   306347 non-null  object        \n",
      " 50  pago_general    306347 non-null  int64         \n",
      "dtypes: datetime64[ns](1), float32(4), float64(1), int16(1), int32(3), int64(1), object(40)\n",
      "memory usage: 111.6+ MB\n"
     ]
    }
   ],
   "source": [
    "df.info()"
   ]
  },
  {
   "cell_type": "code",
   "execution_count": 9,
   "id": "freelance-dietary",
   "metadata": {},
   "outputs": [
    {
     "name": "stdout",
     "output_type": "stream",
     "text": [
      "Collecting sidetable\n",
      "  Downloading sidetable-0.8.0-py3-none-any.whl (15 kB)\n",
      "Requirement already satisfied: pandas>=1.0 in /home/ec2-user/anaconda3/envs/python3/lib/python3.6/site-packages (from sidetable) (1.1.5)\n",
      "Requirement already satisfied: python-dateutil>=2.7.3 in /home/ec2-user/anaconda3/envs/python3/lib/python3.6/site-packages (from pandas>=1.0->sidetable) (2.8.1)\n",
      "Requirement already satisfied: pytz>=2017.2 in /home/ec2-user/anaconda3/envs/python3/lib/python3.6/site-packages (from pandas>=1.0->sidetable) (2021.1)\n",
      "Requirement already satisfied: numpy>=1.15.4 in /home/ec2-user/anaconda3/envs/python3/lib/python3.6/site-packages (from pandas>=1.0->sidetable) (1.19.5)\n",
      "Requirement already satisfied: six>=1.5 in /home/ec2-user/anaconda3/envs/python3/lib/python3.6/site-packages (from python-dateutil>=2.7.3->pandas>=1.0->sidetable) (1.15.0)\n",
      "Installing collected packages: sidetable\n",
      "Successfully installed sidetable-0.8.0\n"
     ]
    }
   ],
   "source": [
    "!pip install sidetable"
   ]
  },
  {
   "cell_type": "code",
   "execution_count": 10,
   "id": "missing-argentina",
   "metadata": {},
   "outputs": [],
   "source": [
    "import sidetable as stb"
   ]
  },
  {
   "cell_type": "code",
   "execution_count": 11,
   "id": "virtual-bench",
   "metadata": {},
   "outputs": [
    {
     "data": {
      "text/html": [
       "<div>\n",
       "<style scoped>\n",
       "    .dataframe tbody tr th:only-of-type {\n",
       "        vertical-align: middle;\n",
       "    }\n",
       "\n",
       "    .dataframe tbody tr th {\n",
       "        vertical-align: top;\n",
       "    }\n",
       "\n",
       "    .dataframe thead th {\n",
       "        text-align: right;\n",
       "    }\n",
       "</style>\n",
       "<table border=\"1\" class=\"dataframe\">\n",
       "  <thead>\n",
       "    <tr style=\"text-align: right;\">\n",
       "      <th></th>\n",
       "      <th>term_code</th>\n",
       "      <th>count</th>\n",
       "      <th>percent</th>\n",
       "      <th>cumulative_count</th>\n",
       "      <th>cumulative_percent</th>\n",
       "    </tr>\n",
       "  </thead>\n",
       "  <tbody>\n",
       "    <tr>\n",
       "      <th>0</th>\n",
       "      <td></td>\n",
       "      <td>306347</td>\n",
       "      <td>100.0</td>\n",
       "      <td>306347</td>\n",
       "      <td>100.0</td>\n",
       "    </tr>\n",
       "  </tbody>\n",
       "</table>\n",
       "</div>"
      ],
      "text/plain": [
       "  term_code   count  percent  cumulative_count  cumulative_percent\n",
       "0            306347    100.0            306347               100.0"
      ]
     },
     "execution_count": 11,
     "metadata": {},
     "output_type": "execute_result"
    }
   ],
   "source": [
    "df.stb.freq(['term_code'])"
   ]
  },
  {
   "cell_type": "markdown",
   "id": "sought-concert",
   "metadata": {},
   "source": [
    "drop columns we don't need:"
   ]
  },
  {
   "cell_type": "code",
   "execution_count": 12,
   "id": "electric-purple",
   "metadata": {},
   "outputs": [],
   "source": [
    "df = df.drop(['mesasig', 'ct1', 'data_lig', 'term_code', 'cont_lig',\n",
    "              'cnpj15', 'cpfcnpj15'], axis = 1) "
   ]
  },
  {
   "cell_type": "code",
   "execution_count": 13,
   "id": "connected-blond",
   "metadata": {},
   "outputs": [
    {
     "data": {
      "text/plain": [
       "array([[<AxesSubplot:title={'center':'vl_vcto_cor'}>,\n",
       "        <AxesSubplot:title={'center':'resp_contr'}>,\n",
       "        <AxesSubplot:title={'center':'resp_cliente'}>],\n",
       "       [<AxesSubplot:title={'center':'dias_atraso'}>,\n",
       "        <AxesSubplot:title={'center':'saldo_totcli6'}>,\n",
       "        <AxesSubplot:title={'center':'saldo_cart6'}>],\n",
       "       [<AxesSubplot:title={'center':'saldo_ccmrcl6'}>,\n",
       "        <AxesSubplot:title={'center':'pj'}>,\n",
       "        <AxesSubplot:title={'center':'valorpagamento'}>],\n",
       "       [<AxesSubplot:title={'center':'pago_general'}>, <AxesSubplot:>,\n",
       "        <AxesSubplot:>]], dtype=object)"
      ]
     },
     "execution_count": 13,
     "metadata": {},
     "output_type": "execute_result"
    },
    {
     "data": {
      "image/png": "[encoded data removed]",
      "text/plain": [
       "<Figure size 1440x1440 with 12 Axes>"
      ]
     },
     "metadata": {
      "needs_background": "light"
     },
     "output_type": "display_data"
    }
   ],
   "source": [
    "df.hist(bins = 20, figsize = (20,20), color = 'r')"
   ]
  },
  {
   "cell_type": "code",
   "execution_count": 14,
   "id": "ideal-toronto",
   "metadata": {},
   "outputs": [
    {
     "data": {
      "image/png": "[encoded data removed]",
      "text/plain": [
       "<Figure size 720x720 with 2 Axes>"
      ]
     },
     "metadata": {
      "needs_background": "light"
     },
     "output_type": "display_data"
    }
   ],
   "source": [
    "plt.figure(figsize = (10,10))\n",
    "corr_matrix = df.corr()\n",
    "sns.heatmap(corr_matrix, annot = True)\n",
    "plt.show()"
   ]
  },
  {
   "cell_type": "code",
   "execution_count": 15,
   "id": "global-backup",
   "metadata": {},
   "outputs": [
    {
     "name": "stdout",
     "output_type": "stream",
     "text": [
      "['location', 'banco', 'agencia', 'dir_reg', 'dt_nasc', 'uf', 'iden_tel1', 'ddd_tel1', 'iden_tel2', 'ddd_tel2', 'iden_tel3', 'ddd_tel3', 'iden_tel4', 'ddd_tel4', 'iden_tel5', 'ddd_tel5', 'iden_tel6', 'ddd_tel6', 'rating', 'dt_desde', 'nat_oper', 'carteira', 'vcto_antig', 'vl_vcto_cor', 'resp_contr', 'resp_cliente', 'ident_seg', 'produto', 'subproduto', 'familia', 'convenio', 'bs1', 'cs1', 'num_contrato', 'dias_atraso', 'saldo_totcli6', 'saldo_cart6', 'saldo_ccmrcl6', 'dataasig', 'pj', 'cpf11', 'valorpagamento', 'datapagamento', 'pago_general']\n"
     ]
    }
   ],
   "source": [
    "print(list(df.columns))"
   ]
  },
  {
   "cell_type": "markdown",
   "id": "comic-length",
   "metadata": {},
   "source": [
    "drop highly correlated variables"
   ]
  },
  {
   "cell_type": "code",
   "execution_count": 16,
   "id": "strong-pencil",
   "metadata": {},
   "outputs": [],
   "source": [
    "df = df.drop(['saldo_ccmrcl6', 'vl_vcto_cor', 'resp_contr'  ], axis = 1) "
   ]
  },
  {
   "cell_type": "code",
   "execution_count": 17,
   "id": "expired-recipient",
   "metadata": {},
   "outputs": [
    {
     "data": {
      "text/plain": [
       "101010    254770\n",
       "010102     30772\n",
       "301010     20805\n",
       "Name: location, dtype: int64"
      ]
     },
     "execution_count": 17,
     "metadata": {},
     "output_type": "execute_result"
    }
   ],
   "source": [
    "df['location'].value_counts()"
   ]
  },
  {
   "cell_type": "code",
   "execution_count": 18,
   "id": "prime-probe",
   "metadata": {},
   "outputs": [
    {
     "data": {
      "text/plain": [
       "       275575\n",
       "237     30772\n",
       "Name: banco, dtype: int64"
      ]
     },
     "execution_count": 18,
     "metadata": {},
     "output_type": "execute_result"
    }
   ],
   "source": [
    "df['banco'].value_counts()"
   ]
  },
  {
   "cell_type": "code",
   "execution_count": 19,
   "id": "respective-moore",
   "metadata": {},
   "outputs": [
    {
     "data": {
      "text/plain": [
       "04025    39936\n",
       "03750     3659\n",
       "03726      723\n",
       "00265      340\n",
       "00452      301\n",
       "         ...  \n",
       "5690         1\n",
       "0377         1\n",
       "3711         1\n",
       "3232         1\n",
       "3753         1\n",
       "Name: agencia, Length: 8669, dtype: int64"
      ]
     },
     "execution_count": 19,
     "metadata": {},
     "output_type": "execute_result"
    }
   ],
   "source": [
    "df['agencia'].value_counts()"
   ]
  },
  {
   "cell_type": "code",
   "execution_count": 20,
   "id": "sized-piano",
   "metadata": {},
   "outputs": [],
   "source": [
    "df = pd.get_dummies(df, columns = ['location', 'banco', 'uf', 'rating', 'ident_seg', 'bs1', 'cs1'], drop_first = True)"
   ]
  },
  {
   "cell_type": "code",
   "execution_count": 21,
   "id": "stable-preservation",
   "metadata": {},
   "outputs": [],
   "source": [
    "def dum_sign(dummy_col, threshold=0.1):\n",
    "    \"\"\" This function returns a dummified dataframe of significant dummies in\n",
    "    a given column. \"\"\"\n",
    "\n",
    "    # removes the bind\n",
    "    dummy_col = dummy_col.copy()\n",
    "\n",
    "    # what is the ratio of a dummy in whole column\n",
    "    count = pd.value_counts(dummy_col) / len(dummy_col)\n",
    "\n",
    "    # cond whether the ratios is higher than the threshold\n",
    "    mask = dummy_col.isin(count[count > threshold].index)\n",
    "\n",
    "    # replace the ones which ratio is lower than the threshold by a special name\n",
    "    dummy_col[~mask] = \"others\"\n",
    "\n",
    "    return pd.get_dummies(dummy_col, prefix=dummy_col.name)"
   ]
  },
  {
   "cell_type": "code",
   "execution_count": 22,
   "id": "solar-corruption",
   "metadata": {},
   "outputs": [],
   "source": [
    "dummy = pd.Series(df['agencia'], name='agencia')\n",
    "dummy_df= dum_sign(dummy, 0.01)"
   ]
  },
  {
   "cell_type": "code",
   "execution_count": 23,
   "id": "surgical-bacon",
   "metadata": {},
   "outputs": [],
   "source": [
    "df = pd.concat([df, dummy_df], axis=1)\n",
    "df = df.drop('agencia', axis = 1) "
   ]
  },
  {
   "cell_type": "code",
   "execution_count": 24,
   "id": "precise-november",
   "metadata": {},
   "outputs": [
    {
     "data": {
      "text/plain": [
       "        275575\n",
       "4264       490\n",
       "8533       392\n",
       "8565       385\n",
       "4669       384\n",
       "         ...  \n",
       "4678         3\n",
       "8761         2\n",
       "4631         2\n",
       "4090         1\n",
       "4024         1\n",
       "Name: dir_reg, Length: 131, dtype: int64"
      ]
     },
     "execution_count": 24,
     "metadata": {},
     "output_type": "execute_result"
    }
   ],
   "source": [
    "df['dir_reg'].value_counts()"
   ]
  },
  {
   "cell_type": "markdown",
   "id": "prostate-classification",
   "metadata": {},
   "source": [
    "dir_reg has aprox. 90% blank. will convert column to zero for blanks 1 non-blank"
   ]
  },
  {
   "cell_type": "code",
   "execution_count": 25,
   "id": "confused-screening",
   "metadata": {},
   "outputs": [],
   "source": [
    "df['dir_reg'] = df['dir_reg'].apply(lambda x: 0 if x == '' else 1)"
   ]
  },
  {
   "cell_type": "code",
   "execution_count": 26,
   "id": "middle-portugal",
   "metadata": {},
   "outputs": [],
   "source": [
    "df['dt_nasc'] = pd.to_datetime(df['dt_nasc'], errors='coerce')"
   ]
  },
  {
   "cell_type": "code",
   "execution_count": 27,
   "id": "temporal-minutes",
   "metadata": {},
   "outputs": [],
   "source": [
    "df['age'] = (df['dataasig'] - df['dt_nasc']).astype('<m8[Y]')\n",
    "df = df.drop('dt_nasc', axis = 1) "
   ]
  },
  {
   "cell_type": "markdown",
   "id": "reflected-innocent",
   "metadata": {},
   "source": [
    "Telephone variables with ddd can be dropped since we can get valid phone count\n",
    "using the \"V\" value in the iden columns."
   ]
  },
  {
   "cell_type": "code",
   "execution_count": 28,
   "id": "medieval-montreal",
   "metadata": {},
   "outputs": [],
   "source": [
    "cols = [c for c in df.columns if c.lower()[:3] != 'ddd']\n",
    "df = df[cols] "
   ]
  },
  {
   "cell_type": "code",
   "execution_count": 29,
   "id": "tight-discretion",
   "metadata": {},
   "outputs": [
    {
     "data": {
      "text/plain": [
       "X    272696\n",
       "V     33651\n",
       "Name: iden_tel1, dtype: int64"
      ]
     },
     "execution_count": 29,
     "metadata": {},
     "output_type": "execute_result"
    }
   ],
   "source": [
    "df['iden_tel1'].value_counts()"
   ]
  },
  {
   "cell_type": "markdown",
   "id": "specific-preparation",
   "metadata": {},
   "source": [
    "will replace valid phone value \"V\" with 1 so we can get a sum of valid phones"
   ]
  },
  {
   "cell_type": "code",
   "execution_count": 30,
   "id": "digital-service",
   "metadata": {},
   "outputs": [],
   "source": [
    "df.iloc[:, 1:7] = df.iloc[:, 1:7].replace({'V': 1,'X':0}).fillna(0)"
   ]
  },
  {
   "cell_type": "code",
   "execution_count": 31,
   "id": "vietnamese-garbage",
   "metadata": {},
   "outputs": [],
   "source": [
    "cols = list(df.columns)"
   ]
  },
  {
   "cell_type": "code",
   "execution_count": 32,
   "id": "textile-munich",
   "metadata": {},
   "outputs": [],
   "source": [
    "cols = cols[1:7]"
   ]
  },
  {
   "cell_type": "code",
   "execution_count": 33,
   "id": "primary-toyota",
   "metadata": {},
   "outputs": [],
   "source": [
    "df['total_phones'] = df[cols].sum(axis=1)"
   ]
  },
  {
   "cell_type": "code",
   "execution_count": 34,
   "id": "comfortable-opportunity",
   "metadata": {},
   "outputs": [],
   "source": [
    "df.drop(cols, axis=1, inplace=True)"
   ]
  },
  {
   "cell_type": "markdown",
   "id": "public-nature",
   "metadata": {},
   "source": [
    "create a new tenure variable using dt_desde and dataasig"
   ]
  },
  {
   "cell_type": "code",
   "execution_count": 35,
   "id": "hundred-record",
   "metadata": {},
   "outputs": [],
   "source": [
    "df['dt_desde'] = pd.to_datetime(df['dt_desde'], errors='coerce')\n",
    "df['tenure'] = (df['dataasig'] - df['dt_desde']).astype('<m8[Y]')\n",
    "df = df.drop('dt_desde', axis = 1) "
   ]
  },
  {
   "cell_type": "code",
   "execution_count": 36,
   "id": "fixed-facing",
   "metadata": {},
   "outputs": [
    {
     "data": {
      "text/plain": [
       "3      275575\n",
       "001     10993\n",
       "090      7936\n",
       "013      5057\n",
       "057      2641\n",
       "093      1989\n",
       "012      1438\n",
       "091       343\n",
       "058       285\n",
       "033        33\n",
       "078        17\n",
       "102        16\n",
       "092        12\n",
       "014         8\n",
       "007         2\n",
       "005         2\n",
       "Name: nat_oper, dtype: int64"
      ]
     },
     "execution_count": 36,
     "metadata": {},
     "output_type": "execute_result"
    }
   ],
   "source": [
    "df['nat_oper'].value_counts()"
   ]
  },
  {
   "cell_type": "code",
   "execution_count": 37,
   "id": "ranging-interaction",
   "metadata": {},
   "outputs": [],
   "source": [
    "dummy = pd.Series(df['nat_oper'], name='nat_oper')\n",
    "dummy_df= dum_sign(dummy, 0.01)"
   ]
  },
  {
   "cell_type": "code",
   "execution_count": 38,
   "id": "proof-plane",
   "metadata": {},
   "outputs": [],
   "source": [
    "df = pd.concat([df, dummy_df], axis=1)\n",
    "df = df.drop('nat_oper', axis = 1) "
   ]
  },
  {
   "cell_type": "code",
   "execution_count": 39,
   "id": "demanding-police",
   "metadata": {},
   "outputs": [
    {
     "data": {
      "text/plain": [
       "       275575\n",
       "455      7936\n",
       "722      4426\n",
       "351      2838\n",
       "379      2758\n",
       "842      2640\n",
       "385      2312\n",
       "DCC      1989\n",
       "530      1906\n",
       "227      1431\n",
       "331       544\n",
       "729       373\n",
       "375       343\n",
       "773       309\n",
       "469       308\n",
       "809       285\n",
       "EXL        95\n",
       "GFC        45\n",
       "266        33\n",
       "771        32\n",
       "393        30\n",
       "532        17\n",
       "288        15\n",
       "136        13\n",
       "340        12\n",
       "CAF        11\n",
       "712         8\n",
       "144         6\n",
       "621         6\n",
       "CFF         5\n",
       "944         5\n",
       "448         5\n",
       "226         4\n",
       "349         4\n",
       "451         4\n",
       "117         4\n",
       "700         2\n",
       "406         2\n",
       "404         2\n",
       "263         2\n",
       "551         2\n",
       "591         2\n",
       "039         1\n",
       "688         1\n",
       "124         1\n",
       "841         1\n",
       "044         1\n",
       "321         1\n",
       "510         1\n",
       "304         1\n",
       "Name: carteira, dtype: int64"
      ]
     },
     "execution_count": 39,
     "metadata": {},
     "output_type": "execute_result"
    }
   ],
   "source": [
    "df['carteira'].value_counts()"
   ]
  },
  {
   "cell_type": "code",
   "execution_count": 40,
   "id": "marked-hudson",
   "metadata": {},
   "outputs": [],
   "source": [
    "dummy = pd.Series(df['carteira'], name='carteira')\n",
    "dummy_df= dum_sign(dummy, 0.005)"
   ]
  },
  {
   "cell_type": "code",
   "execution_count": 41,
   "id": "subjective-supplier",
   "metadata": {},
   "outputs": [],
   "source": [
    "df = pd.concat([df, dummy_df], axis=1)\n",
    "df = df.drop(['carteira', 'vcto_antig', 'familia'], axis = 1) #vcto_antig same as dias_atraso\n",
    "#familia highly corr with produto"
   ]
  },
  {
   "cell_type": "code",
   "execution_count": 42,
   "id": "presidential-roots",
   "metadata": {},
   "outputs": [
    {
     "data": {
      "text/plain": [
       "000    277980\n",
       "004     15608\n",
       "011      7936\n",
       "002      2926\n",
       "005      1531\n",
       "019       340\n",
       "012        18\n",
       "006         8\n",
       "Name: produto, dtype: int64"
      ]
     },
     "execution_count": 42,
     "metadata": {},
     "output_type": "execute_result"
    }
   ],
   "source": [
    "df['produto'].value_counts()"
   ]
  },
  {
   "cell_type": "code",
   "execution_count": 43,
   "id": "qualified-member",
   "metadata": {},
   "outputs": [],
   "source": [
    "df['prod_000'] = df['produto'].apply(lambda x: 0 if x != '000' else 1)\n",
    "df['prod_004'] = df['produto'].apply(lambda x: 0 if x != '004' else 1)\n",
    "df['prod_011'] = df['produto'].apply(lambda x: 0 if x != '011' else 1)\n",
    "df = df.drop('produto', axis = 1)"
   ]
  },
  {
   "cell_type": "code",
   "execution_count": 44,
   "id": "aggregate-saudi",
   "metadata": {},
   "outputs": [],
   "source": [
    "df['subprod_000'] = df['subproduto'].apply(lambda x: 0 if x != '000' else 1)\n",
    "df['subprod_006'] = df['subproduto'].apply(lambda x: 0 if x != '006' else 1)\n",
    "df['subprod_061'] = df['subproduto'].apply(lambda x: 0 if x != '061' else 1)\n",
    "df = df.drop('subproduto', axis = 1)"
   ]
  },
  {
   "cell_type": "code",
   "execution_count": 45,
   "id": "medium-version",
   "metadata": {},
   "outputs": [
    {
     "data": {
      "text/plain": [
       "000000000    295104\n",
       "000004930      2015\n",
       "000007537      1902\n",
       "000009151      1136\n",
       "000009152       678\n",
       "              ...  \n",
       "000015423         1\n",
       "000011085         1\n",
       "000006030         1\n",
       "000011110         1\n",
       "000010078         1\n",
       "Name: convenio, Length: 186, dtype: int64"
      ]
     },
     "execution_count": 45,
     "metadata": {},
     "output_type": "execute_result"
    }
   ],
   "source": [
    "df['convenio'].value_counts()"
   ]
  },
  {
   "cell_type": "code",
   "execution_count": 46,
   "id": "creative-convert",
   "metadata": {},
   "outputs": [],
   "source": [
    "dummy = pd.Series(df['convenio'], name='convenio')\n",
    "dummy_df= dum_sign(dummy, 0.005)"
   ]
  },
  {
   "cell_type": "code",
   "execution_count": 47,
   "id": "informational-marker",
   "metadata": {},
   "outputs": [],
   "source": [
    "df = pd.concat([df, dummy_df], axis=1)\n",
    "df = df.drop('convenio', axis = 1)"
   ]
  },
  {
   "cell_type": "markdown",
   "id": "appreciated-candy",
   "metadata": {},
   "source": [
    "get unique count of contracts for each cpf"
   ]
  },
  {
   "cell_type": "code",
   "execution_count": 48,
   "id": "ignored-preliminary",
   "metadata": {},
   "outputs": [],
   "source": [
    "\n",
    "nval_df = df.groupby('cpf11').num_contrato.agg(nvals='nunique')"
   ]
  },
  {
   "cell_type": "markdown",
   "id": "universal-consideration",
   "metadata": {},
   "source": [
    "merge unique contract count df with original df"
   ]
  },
  {
   "cell_type": "code",
   "execution_count": 49,
   "id": "amazing-class",
   "metadata": {},
   "outputs": [],
   "source": [
    "df = pd.merge(df, nval_df, left_on ='cpf11', right_on = 'cpf11', how='left')"
   ]
  },
  {
   "cell_type": "markdown",
   "id": "artificial-entry",
   "metadata": {},
   "source": [
    "drop the others column from all dummies to avoid dummy trap"
   ]
  },
  {
   "cell_type": "code",
   "execution_count": 50,
   "id": "female-seeker",
   "metadata": {},
   "outputs": [],
   "source": [
    "cols = [col for col in df.columns if '_others' not in col]\n",
    "df = df[cols] "
   ]
  },
  {
   "cell_type": "code",
   "execution_count": 51,
   "id": "spectacular-cambridge",
   "metadata": {},
   "outputs": [],
   "source": [
    "del cols\n",
    "del nval_df\n",
    "del dummy\n",
    "del dummy_df"
   ]
  },
  {
   "cell_type": "code",
   "execution_count": 52,
   "id": "dependent-nylon",
   "metadata": {},
   "outputs": [
    {
     "data": {
      "text/plain": [
       "0    1\n",
       "1    0\n",
       "2    0\n",
       "3    0\n",
       "4    0\n",
       "Name: dir_reg, dtype: int64"
      ]
     },
     "execution_count": 52,
     "metadata": {},
     "output_type": "execute_result"
    }
   ],
   "source": [
    "df['dir_reg'].head()"
   ]
  },
  {
   "cell_type": "code",
   "execution_count": 53,
   "id": "ignored-victoria",
   "metadata": {
    "scrolled": true
   },
   "outputs": [
    {
     "data": {
      "text/plain": [
       "0    275575\n",
       "1     30772\n",
       "Name: dir_reg, dtype: int64"
      ]
     },
     "execution_count": 53,
     "metadata": {},
     "output_type": "execute_result"
    }
   ],
   "source": [
    "df['dir_reg'].value_counts()"
   ]
  },
  {
   "cell_type": "code",
   "execution_count": 54,
   "id": "front-intellectual",
   "metadata": {},
   "outputs": [
    {
     "data": {
      "text/plain": [
       "dir_reg                 int64\n",
       "resp_cliente            int32\n",
       "num_contrato           object\n",
       "dias_atraso             int16\n",
       "saldo_totcli6         float32\n",
       "                       ...   \n",
       "subprod_061             int64\n",
       "convenio_000000000      uint8\n",
       "convenio_000004930      uint8\n",
       "convenio_000007537      uint8\n",
       "nvals                   int64\n",
       "Length: 103, dtype: object"
      ]
     },
     "execution_count": 54,
     "metadata": {},
     "output_type": "execute_result"
    }
   ],
   "source": [
    "df.dtypes"
   ]
  },
  {
   "cell_type": "markdown",
   "id": "dedicated-tolerance",
   "metadata": {},
   "source": [
    "get a subset of variables to review in correlation matrix"
   ]
  },
  {
   "cell_type": "code",
   "execution_count": 55,
   "id": "italic-engine",
   "metadata": {
    "scrolled": true
   },
   "outputs": [],
   "source": [
    "corr_df = df.iloc[:, np.r_[0:15, 42:103]]"
   ]
  },
  {
   "cell_type": "code",
   "execution_count": 56,
   "id": "talented-norman",
   "metadata": {
    "scrolled": true
   },
   "outputs": [
    {
     "data": {
      "text/plain": [
       "<AxesSubplot:>"
      ]
     },
     "execution_count": 56,
     "metadata": {},
     "output_type": "execute_result"
    },
    {
     "data": {
      "image/png": "[encoded data removed]",
      "text/plain": [
       "<Figure size 1440x1080 with 2 Axes>"
      ]
     },
     "metadata": {
      "needs_background": "light"
     },
     "output_type": "display_data"
    }
   ],
   "source": [
    "corr_matrix = corr_df.corr()\n",
    "plt.subplots(figsize=(20,15))\n",
    "sns.heatmap(corr_matrix)"
   ]
  },
  {
   "cell_type": "markdown",
   "id": "meaningful-theta",
   "metadata": {},
   "source": [
    "will drop one of the pairs from too highly correlated variables."
   ]
  },
  {
   "cell_type": "code",
   "execution_count": 57,
   "id": "phantom-seminar",
   "metadata": {},
   "outputs": [],
   "source": [
    "df = df.drop(['dir_reg', 'ident_seg_000', 'nat_oper_090', 'subprod_006', 'subprod_000', 'subprod_061'] , axis = 1)"
   ]
  },
  {
   "cell_type": "markdown",
   "id": "alternate-london",
   "metadata": {},
   "source": [
    "# Get Cumulative Info for key variables then dedupe by CPF"
   ]
  },
  {
   "cell_type": "code",
   "execution_count": 58,
   "id": "pressed-lyric",
   "metadata": {},
   "outputs": [],
   "source": [
    "def trans_max(*args, key):\n",
    "    \"\"\" This function transforms the column by performing a groupby on the key\n",
    "    column and summing the values.\"\"\"\n",
    "    \n",
    "    for arg in args:\n",
    "        df[arg] = df[arg].groupby(df[key]).transform('max')\n",
    "    return df[arg]"
   ]
  },
  {
   "cell_type": "code",
   "execution_count": 59,
   "id": "found-inflation",
   "metadata": {},
   "outputs": [
    {
     "data": {
      "text/plain": [
       "0         1\n",
       "1         1\n",
       "2         1\n",
       "3         1\n",
       "4         1\n",
       "         ..\n",
       "306342    1\n",
       "306343    1\n",
       "306344    1\n",
       "306345    2\n",
       "306346    2\n",
       "Name: nvals, Length: 306347, dtype: int64"
      ]
     },
     "execution_count": 59,
     "metadata": {},
     "output_type": "execute_result"
    }
   ],
   "source": [
    "trans_max('pj',\n",
    "          'pago_general', 'location_101010', 'location_301010', 'banco_237',\n",
    "          'uf_AC', 'uf_AL', 'uf_AM', 'uf_AP', 'uf_BA', 'uf_CE', 'uf_DF',\n",
    "          'uf_ES', 'uf_GO', 'uf_MA', 'uf_MG', 'uf_MS', 'uf_MT', 'uf_PA',\n",
    "          'uf_PB', 'uf_PE', 'uf_PI', 'uf_PR', 'uf_RJ', 'uf_RN', 'uf_RO',\n",
    "          'uf_RR', 'uf_RS', 'uf_SC', 'uf_SE', 'uf_SP', 'uf_TO', 'rating_A',\n",
    "          'rating_AA', 'rating_B', 'rating_C', 'rating_D', 'rating_E', 'rating_F',\n",
    "          'rating_G', 'rating_H', 'ident_seg_002',\n",
    "          'bs1_001', 'bs1_002', 'bs1_003', 'bs1_004', 'bs1_011', 'bs1_012',\n",
    "          'bs1_013', 'bs1_014', 'bs1_021', 'bs1_022', 'bs1_023', 'bs1_024',\n",
    "          'cs1_001', 'cs1_002', 'cs1_003', 'cs1_011', 'cs1_012', 'cs1_013',\n",
    "          'cs1_021', 'cs1_022', 'cs1_023', 'agencia_03750', 'agencia_04025',\n",
    "          'nat_oper_001', 'nat_oper_013', 'nat_oper_3', 'carteira_',\n",
    "          'carteira_351', 'carteira_379', 'carteira_385', 'carteira_455',\n",
    "          'carteira_530', 'carteira_722', 'carteira_842', 'carteira_DCC',\n",
    "          'prod_000', 'prod_004', 'prod_011', 'convenio_000000000', 'convenio_000004930',\n",
    "          'convenio_000007537', 'nvals' , key = 'cpf11')"
   ]
  },
  {
   "cell_type": "code",
   "execution_count": 60,
   "id": "editorial-excerpt",
   "metadata": {},
   "outputs": [],
   "source": [
    "def trans_sum(*args, key):\n",
    "    \"\"\" This function transforms the column by performing a groupby on the key\n",
    "    column and summing the values.\"\"\"\n",
    "    \n",
    "    for arg in args:\n",
    "        df[arg] = df[arg].groupby(df[key]).transform('sum')\n",
    "    return df[arg]"
   ]
  },
  {
   "cell_type": "code",
   "execution_count": 61,
   "id": "original-luxury",
   "metadata": {},
   "outputs": [
    {
     "data": {
      "text/plain": [
       "0          2369.94\n",
       "1             0.00\n",
       "2             0.00\n",
       "3           368.74\n",
       "4             0.00\n",
       "            ...   \n",
       "306342     5166.47\n",
       "306343    13378.34\n",
       "306344     1235.62\n",
       "306345      664.63\n",
       "306346      664.63\n",
       "Name: valorpagamento, Length: 306347, dtype: float64"
      ]
     },
     "execution_count": 61,
     "metadata": {},
     "output_type": "execute_result"
    }
   ],
   "source": [
    "trans_sum('resp_cliente','total_phones',\n",
    "          'saldo_totcli6', 'saldo_cart6','valorpagamento', key='cpf11')"
   ]
  },
  {
   "cell_type": "code",
   "execution_count": 62,
   "id": "beneficial-wilderness",
   "metadata": {},
   "outputs": [],
   "source": [
    "def trans_mean(*args, key):\n",
    "    \"\"\" This function transform the column by performing a groupby on the key\n",
    "    column and summing the values.\"\"\"\n",
    "   \n",
    "    for arg in args:\n",
    "        df[arg] = df[arg].groupby(df[key]).transform('mean')\n",
    "    return df[arg]"
   ]
  },
  {
   "cell_type": "code",
   "execution_count": 63,
   "id": "abandoned-sacrifice",
   "metadata": {},
   "outputs": [
    {
     "data": {
      "text/plain": [
       "0          5.00\n",
       "1         15.00\n",
       "2         35.00\n",
       "3         15.00\n",
       "4          9.00\n",
       "          ...  \n",
       "306342     9.00\n",
       "306343    11.00\n",
       "306344    15.00\n",
       "306345     6.25\n",
       "306346     6.25\n",
       "Name: dias_atraso, Length: 306347, dtype: float64"
      ]
     },
     "execution_count": 63,
     "metadata": {},
     "output_type": "execute_result"
    }
   ],
   "source": [
    "trans_mean('age', 'tenure', 'dias_atraso', key='cpf11')"
   ]
  },
  {
   "cell_type": "code",
   "execution_count": 64,
   "id": "invisible-concentrate",
   "metadata": {},
   "outputs": [],
   "source": [
    "df = df.drop_duplicates(subset=['cpf11'])"
   ]
  },
  {
   "cell_type": "code",
   "execution_count": 65,
   "id": "biblical-subscriber",
   "metadata": {},
   "outputs": [
    {
     "name": "stdout",
     "output_type": "stream",
     "text": [
      "['resp_cliente', 'num_contrato', 'dias_atraso', 'saldo_totcli6', 'saldo_cart6', 'dataasig', 'pj', 'cpf11', 'valorpagamento', 'datapagamento', 'pago_general', 'location_101010', 'location_301010', 'banco_237', 'uf_AC', 'uf_AL', 'uf_AM', 'uf_AP', 'uf_BA', 'uf_CE', 'uf_DF', 'uf_ES', 'uf_GO', 'uf_MA', 'uf_MG', 'uf_MS', 'uf_MT', 'uf_PA', 'uf_PB', 'uf_PE', 'uf_PI', 'uf_PR', 'uf_RJ', 'uf_RN', 'uf_RO', 'uf_RR', 'uf_RS', 'uf_SC', 'uf_SE', 'uf_SP', 'uf_TO', 'rating_A', 'rating_AA', 'rating_B', 'rating_C', 'rating_D', 'rating_E', 'rating_F', 'rating_G', 'rating_H', 'ident_seg_001', 'ident_seg_002', 'bs1_001', 'bs1_002', 'bs1_003', 'bs1_004', 'bs1_011', 'bs1_012', 'bs1_013', 'bs1_014', 'bs1_021', 'bs1_022', 'bs1_023', 'bs1_024', 'cs1_001', 'cs1_002', 'cs1_003', 'cs1_011', 'cs1_012', 'cs1_013', 'cs1_021', 'cs1_022', 'cs1_023', 'agencia_03750', 'agencia_04025', 'age', 'total_phones', 'tenure', 'nat_oper_001', 'nat_oper_013', 'nat_oper_3', 'carteira_', 'carteira_351', 'carteira_379', 'carteira_385', 'carteira_455', 'carteira_530', 'carteira_722', 'carteira_842', 'carteira_DCC', 'prod_000', 'prod_004', 'prod_011', 'convenio_000000000', 'convenio_000004930', 'convenio_000007537', 'nvals']\n"
     ]
    }
   ],
   "source": [
    "print(list(df.columns))"
   ]
  },
  {
   "cell_type": "code",
   "execution_count": 66,
   "id": "adequate-pricing",
   "metadata": {},
   "outputs": [],
   "source": [
    "df = df.drop(['num_contrato', 'dataasig', 'cpf11', 'datapagamento'], axis = 1) "
   ]
  },
  {
   "cell_type": "code",
   "execution_count": 67,
   "id": "exact-basis",
   "metadata": {},
   "outputs": [],
   "source": [
    "# split the dataframe into target and features\n",
    "\n",
    "df_target = df['pago_general']\n",
    "df_final = df.drop(columns =['pago_general', 'valorpagamento'])"
   ]
  },
  {
   "cell_type": "code",
   "execution_count": 68,
   "id": "answering-windows",
   "metadata": {},
   "outputs": [],
   "source": [
    "imr = SimpleImputer(missing_values=np.nan, strategy='mean')\n",
    "imr = imr.fit(df_final[['age']])\n",
    "df_final['age'] = imr.transform(df_final[['age']]).ravel()"
   ]
  },
  {
   "cell_type": "markdown",
   "id": "concerned-vanilla",
   "metadata": {},
   "source": [
    "# PERFORM DIMENSIONALITY REDUCTION USING PCA ( USING SAGEMAKER)"
   ]
  },
  {
   "cell_type": "code",
   "execution_count": null,
   "id": "technological-ghana",
   "metadata": {},
   "outputs": [],
   "source": [
    "# standardize the data\n",
    "scaler = StandardScaler()\n",
    "\n",
    "# Fit on training set only.\n",
    "scaler.fit(df_final)\n",
    "\n",
    "# Apply transform \n",
    "df_final = scaler.transform(df_final)\n"
   ]
  },
  {
   "cell_type": "code",
   "execution_count": null,
   "id": "black-recognition",
   "metadata": {},
   "outputs": [],
   "source": [
    "print(df_final.ndim)"
   ]
  },
  {
   "cell_type": "code",
   "execution_count": null,
   "id": "covered-music",
   "metadata": {},
   "outputs": [],
   "source": [
    "df_final.nbytes"
   ]
  },
  {
   "cell_type": "code",
   "execution_count": null,
   "id": "regulation-adoption",
   "metadata": {},
   "outputs": [],
   "source": [
    "import sagemaker\n",
    "import boto3\n",
    "\n",
    "# create a Sagemaker session\n",
    "sagemaker_session = sagemaker.Session()\n",
    "\n",
    "# define the S3 bucket and prefix that we want to use in this session\n",
    "bucket = 'bnds-sagemaker-sp'  \n",
    "prefix = 'cc/pca'  \n",
    "\n",
    "# get the execution role  \n",
    "\n",
    "role = sagemaker.get_execution_role()"
   ]
  },
  {
   "cell_type": "code",
   "execution_count": null,
   "id": "cardiovascular-myanmar",
   "metadata": {},
   "outputs": [],
   "source": [
    "import io  \n",
    "import sagemaker.amazon.common as smac # sagemaker common libary\n",
    "\n",
    "# Code below converts the data in numpy array format to RecordIO format\n",
    "# This is the format required by Sagemaker PCA\n",
    "\n",
    "buf = io.BytesIO() # create an in-memory byte array (buf is a buffer I will be writing to)\n",
    "df_matrix = df_final # convert the dataframe into 2-dimensional array\n",
    "smac.write_numpy_to_dense_tensor(buf, df_final)\n",
    "buf.seek(0)\n",
    "\n",
    "# When you write to in-memory byte arrays, it increments 1 every time you write to it\n",
    "# reset that back to zero "
   ]
  },
  {
   "cell_type": "code",
   "execution_count": null,
   "id": "accredited-waters",
   "metadata": {},
   "outputs": [],
   "source": [
    "# Code to upload RecordIO data to S3\n",
    " \n",
    "# Key refers to the name of the file \n",
    " \n",
    "key = 'pca'\n",
    "\n",
    "#following code uploads the data in record-io format to S3 bucket to be accessed later for training\n",
    "boto3.resource('s3').Bucket(bucket).Object(os.path.join(prefix, 'train', key)).upload_fileobj(buf)\n",
    "\n",
    "# Let's print out the training data location in s3\n",
    "s3_train_data = 's3://{}/{}/train/{}'.format(bucket, prefix, key)\n",
    "\n",
    "\n",
    "print('uploaded training data location: {}'.format(s3_train_data))"
   ]
  },
  {
   "cell_type": "code",
   "execution_count": null,
   "id": "wicked-citation",
   "metadata": {},
   "outputs": [],
   "source": [
    "# create output placeholder in S3 bucket to store the PCA output\n",
    "\n",
    "output_location = 's3://{}/{}/output'.format(bucket, prefix)\n",
    "batch_output = output_location\n",
    "\n",
    "print('training artifacts will be uploaded to: {}'.format(output_location))"
   ]
  },
  {
   "cell_type": "code",
   "execution_count": null,
   "id": "organizational-centre",
   "metadata": {},
   "outputs": [],
   "source": [
    "# This code is used to get the training container of sagemaker built-in algorithms\n",
    "\n",
    "# obtain a reference to the pca container image\n",
    "\n",
    "from sagemaker.amazon.amazon_estimator import get_image_uri\n",
    "\n",
    "container = sagemaker.image_uris.retrieve(\"pca\", boto3.Session().region_name)\n"
   ]
  },
  {
   "cell_type": "code",
   "execution_count": null,
   "id": "respected-moscow",
   "metadata": {},
   "outputs": [],
   "source": [
    "# pass in the container, the type of instance that we would like to use for training \n",
    "# output path and sagemaker session into the Estimator. \n",
    "\n",
    "\n",
    "pca = sagemaker.estimator.Estimator(container,\n",
    "                                       role, \n",
    "                                       instance_count=1, \n",
    "                                       instance_type='ml.c4.xlarge',\n",
    "                                       output_path=output_location,\n",
    "                                       sagemaker_session=sagemaker_session,\n",
    "                                       use_spot_instances = True,\n",
    "                                       max_run = 300,\n",
    "                                       max_wait = 600)\n",
    "\n",
    "# We can tune parameters like the number of features that we are passing in, mode of algorithm, mini batch size and number of pca components\n",
    "\n",
    "\n",
    "pca.set_hyperparameters(feature_dim=91,\n",
    "                        num_components=40,\n",
    "                        subtract_mean=False,\n",
    "                        algorithm_mode='regular',\n",
    "                        mini_batch_size=100)\n",
    "\n",
    "\n",
    "# Pass in the training data from S3 to train the pca model\n",
    "\n",
    "\n",
    "pca.fit({'train': s3_train_data})\n",
    "\n"
   ]
  },
  {
   "cell_type": "markdown",
   "id": "qualified-brand",
   "metadata": {},
   "source": [
    "Use batch transform for inference instead of deploying endpoint at this time."
   ]
  },
  {
   "cell_type": "code",
   "execution_count": null,
   "id": "tight-malawi",
   "metadata": {},
   "outputs": [],
   "source": [
    "# Create a transformer object\n",
    "transformer = pca.transformer(\n",
    "    instance_count=1, \n",
    "    instance_type='ml.m4.xlarge',\n",
    "    max_payload=6,\n",
    "    strategy='MultiRecord',\n",
    "    output_path=batch_output\n",
    ")"
   ]
  },
  {
   "cell_type": "code",
   "execution_count": null,
   "id": "consistent-asthma",
   "metadata": {},
   "outputs": [],
   "source": [
    "# upload csv version of dataset for use in batch transform instead of invoking endpoint:\n",
    "pd.DataFrame(df_final).to_csv('test.csv', index=False, header=False)\n",
    "\n",
    "boto3.Session().resource('s3').Bucket(bucket).Object(\n",
    "os.path.join(prefix, 'test/test.csv')).upload_file('test.csv')"
   ]
  },
  {
   "cell_type": "code",
   "execution_count": null,
   "id": "after-satellite",
   "metadata": {},
   "outputs": [],
   "source": [
    "# The location of the test dataset\n",
    "batch_input = 's3://{}/{}/test/test.csv'.format(bucket, prefix)"
   ]
  },
  {
   "cell_type": "code",
   "execution_count": null,
   "id": "secret-assignment",
   "metadata": {},
   "outputs": [],
   "source": [
    "# Initiate the batch transform job by executing the transform() method of the transformer object\n",
    "transformer.transform(\n",
    "    data=batch_input, \n",
    "    data_type='S3Prefix',\n",
    "    content_type='text/csv',\n",
    "    split_type='Line'\n",
    ")\n",
    "transformer.wait()\n",
    "\n",
    "\n"
   ]
  },
  {
   "cell_type": "markdown",
   "id": "oriented-button",
   "metadata": {},
   "source": [
    "# After we have a valid pca reduction model, can restart from here to get a new valid xgboost model"
   ]
  },
  {
   "cell_type": "code",
   "execution_count": 69,
   "id": "innocent-apparel",
   "metadata": {},
   "outputs": [],
   "source": [
    "bucket = 'bnds-sagemaker-sp'  \n",
    "prefix = 'cc/pca' \n",
    "result = pd.read_csv('s3://{}/{}/output/test.csv.out'.format(bucket, prefix), header=None)"
   ]
  },
  {
   "cell_type": "code",
   "execution_count": 70,
   "id": "technical-broadcasting",
   "metadata": {},
   "outputs": [
    {
     "data": {
      "text/html": [
       "<div>\n",
       "<style scoped>\n",
       "    .dataframe tbody tr th:only-of-type {\n",
       "        vertical-align: middle;\n",
       "    }\n",
       "\n",
       "    .dataframe tbody tr th {\n",
       "        vertical-align: top;\n",
       "    }\n",
       "\n",
       "    .dataframe thead th {\n",
       "        text-align: right;\n",
       "    }\n",
       "</style>\n",
       "<table border=\"1\" class=\"dataframe\">\n",
       "  <thead>\n",
       "    <tr style=\"text-align: right;\">\n",
       "      <th></th>\n",
       "      <th>0</th>\n",
       "      <th>1</th>\n",
       "      <th>2</th>\n",
       "      <th>3</th>\n",
       "      <th>4</th>\n",
       "      <th>5</th>\n",
       "      <th>6</th>\n",
       "      <th>7</th>\n",
       "      <th>8</th>\n",
       "      <th>9</th>\n",
       "      <th>...</th>\n",
       "      <th>30</th>\n",
       "      <th>31</th>\n",
       "      <th>32</th>\n",
       "      <th>33</th>\n",
       "      <th>34</th>\n",
       "      <th>35</th>\n",
       "      <th>36</th>\n",
       "      <th>37</th>\n",
       "      <th>38</th>\n",
       "      <th>39</th>\n",
       "    </tr>\n",
       "  </thead>\n",
       "  <tbody>\n",
       "    <tr>\n",
       "      <th>0</th>\n",
       "      <td>{\"projection\":[-0.190308541059494</td>\n",
       "      <td>-0.431000</td>\n",
       "      <td>-0.455174</td>\n",
       "      <td>-0.541057</td>\n",
       "      <td>-1.320531</td>\n",
       "      <td>-0.927051</td>\n",
       "      <td>-0.402134</td>\n",
       "      <td>-0.356223</td>\n",
       "      <td>0.835622</td>\n",
       "      <td>0.067943</td>\n",
       "      <td>...</td>\n",
       "      <td>0.987761</td>\n",
       "      <td>-2.117521</td>\n",
       "      <td>1.448483</td>\n",
       "      <td>-1.196023</td>\n",
       "      <td>-8.947120</td>\n",
       "      <td>1.834282</td>\n",
       "      <td>-3.532674</td>\n",
       "      <td>0.414510</td>\n",
       "      <td>4.433297</td>\n",
       "      <td>10.465603828430176]}</td>\n",
       "    </tr>\n",
       "    <tr>\n",
       "      <th>1</th>\n",
       "      <td>{\"projection\":[0.138418436050415</td>\n",
       "      <td>0.001120</td>\n",
       "      <td>0.301824</td>\n",
       "      <td>-0.211635</td>\n",
       "      <td>0.211533</td>\n",
       "      <td>-0.272029</td>\n",
       "      <td>-0.038378</td>\n",
       "      <td>-0.510888</td>\n",
       "      <td>-0.578006</td>\n",
       "      <td>-0.116143</td>\n",
       "      <td>...</td>\n",
       "      <td>-1.632493</td>\n",
       "      <td>-0.455837</td>\n",
       "      <td>-1.050289</td>\n",
       "      <td>-3.471119</td>\n",
       "      <td>-0.414529</td>\n",
       "      <td>-0.923407</td>\n",
       "      <td>-0.138864</td>\n",
       "      <td>-0.199049</td>\n",
       "      <td>-0.066994</td>\n",
       "      <td>-0.698013961315155]}</td>\n",
       "    </tr>\n",
       "    <tr>\n",
       "      <th>2</th>\n",
       "      <td>{\"projection\":[1.648079633712768</td>\n",
       "      <td>0.773794</td>\n",
       "      <td>0.913804</td>\n",
       "      <td>1.092126</td>\n",
       "      <td>0.954116</td>\n",
       "      <td>-1.231683</td>\n",
       "      <td>-2.190715</td>\n",
       "      <td>-0.796078</td>\n",
       "      <td>3.435923</td>\n",
       "      <td>0.136425</td>\n",
       "      <td>...</td>\n",
       "      <td>-0.456708</td>\n",
       "      <td>-0.203406</td>\n",
       "      <td>-1.349557</td>\n",
       "      <td>-0.463756</td>\n",
       "      <td>-0.249245</td>\n",
       "      <td>0.200184</td>\n",
       "      <td>-0.007000</td>\n",
       "      <td>-0.102534</td>\n",
       "      <td>-0.068636</td>\n",
       "      <td>-0.956752598285675]}</td>\n",
       "    </tr>\n",
       "    <tr>\n",
       "      <th>3</th>\n",
       "      <td>{\"projection\":[-0.610481142997741</td>\n",
       "      <td>0.067148</td>\n",
       "      <td>1.076744</td>\n",
       "      <td>-0.189262</td>\n",
       "      <td>1.391599</td>\n",
       "      <td>-0.870279</td>\n",
       "      <td>2.245078</td>\n",
       "      <td>-0.523610</td>\n",
       "      <td>0.410218</td>\n",
       "      <td>2.408568</td>\n",
       "      <td>...</td>\n",
       "      <td>-0.777368</td>\n",
       "      <td>-0.191408</td>\n",
       "      <td>-0.358977</td>\n",
       "      <td>-0.835111</td>\n",
       "      <td>0.019646</td>\n",
       "      <td>-0.138538</td>\n",
       "      <td>-0.345333</td>\n",
       "      <td>0.218227</td>\n",
       "      <td>-0.265103</td>\n",
       "      <td>-1.088526010513305]}</td>\n",
       "    </tr>\n",
       "    <tr>\n",
       "      <th>4</th>\n",
       "      <td>{\"projection\":[0.015675960108637</td>\n",
       "      <td>0.029083</td>\n",
       "      <td>-0.142550</td>\n",
       "      <td>0.018011</td>\n",
       "      <td>0.057127</td>\n",
       "      <td>-0.086045</td>\n",
       "      <td>-0.034934</td>\n",
       "      <td>0.140776</td>\n",
       "      <td>0.280062</td>\n",
       "      <td>-0.279369</td>\n",
       "      <td>...</td>\n",
       "      <td>-1.105049</td>\n",
       "      <td>-0.423532</td>\n",
       "      <td>-2.338597</td>\n",
       "      <td>-0.002558</td>\n",
       "      <td>-0.546320</td>\n",
       "      <td>-0.531977</td>\n",
       "      <td>-0.451757</td>\n",
       "      <td>0.287398</td>\n",
       "      <td>-0.350299</td>\n",
       "      <td>-0.942629873752594]}</td>\n",
       "    </tr>\n",
       "  </tbody>\n",
       "</table>\n",
       "<p>5 rows × 40 columns</p>\n",
       "</div>"
      ],
      "text/plain": [
       "                                  0         1         2         3         4   \\\n",
       "0  {\"projection\":[-0.190308541059494 -0.431000 -0.455174 -0.541057 -1.320531   \n",
       "1   {\"projection\":[0.138418436050415  0.001120  0.301824 -0.211635  0.211533   \n",
       "2   {\"projection\":[1.648079633712768  0.773794  0.913804  1.092126  0.954116   \n",
       "3  {\"projection\":[-0.610481142997741  0.067148  1.076744 -0.189262  1.391599   \n",
       "4   {\"projection\":[0.015675960108637  0.029083 -0.142550  0.018011  0.057127   \n",
       "\n",
       "         5         6         7         8         9   ...        30        31  \\\n",
       "0 -0.927051 -0.402134 -0.356223  0.835622  0.067943  ...  0.987761 -2.117521   \n",
       "1 -0.272029 -0.038378 -0.510888 -0.578006 -0.116143  ... -1.632493 -0.455837   \n",
       "2 -1.231683 -2.190715 -0.796078  3.435923  0.136425  ... -0.456708 -0.203406   \n",
       "3 -0.870279  2.245078 -0.523610  0.410218  2.408568  ... -0.777368 -0.191408   \n",
       "4 -0.086045 -0.034934  0.140776  0.280062 -0.279369  ... -1.105049 -0.423532   \n",
       "\n",
       "         32        33        34        35        36        37        38  \\\n",
       "0  1.448483 -1.196023 -8.947120  1.834282 -3.532674  0.414510  4.433297   \n",
       "1 -1.050289 -3.471119 -0.414529 -0.923407 -0.138864 -0.199049 -0.066994   \n",
       "2 -1.349557 -0.463756 -0.249245  0.200184 -0.007000 -0.102534 -0.068636   \n",
       "3 -0.358977 -0.835111  0.019646 -0.138538 -0.345333  0.218227 -0.265103   \n",
       "4 -2.338597 -0.002558 -0.546320 -0.531977 -0.451757  0.287398 -0.350299   \n",
       "\n",
       "                     39  \n",
       "0  10.465603828430176]}  \n",
       "1  -0.698013961315155]}  \n",
       "2  -0.956752598285675]}  \n",
       "3  -1.088526010513305]}  \n",
       "4  -0.942629873752594]}  \n",
       "\n",
       "[5 rows x 40 columns]"
      ]
     },
     "execution_count": 70,
     "metadata": {},
     "output_type": "execute_result"
    }
   ],
   "source": [
    "result.head()"
   ]
  },
  {
   "cell_type": "code",
   "execution_count": 71,
   "id": "aerial-estate",
   "metadata": {},
   "outputs": [],
   "source": [
    "replace_values = {'{\\\"projection\\\"\\:\\[': '', '\\}':'', '\\]':''}\n",
    "result = result.replace(replace_values, regex=True)  "
   ]
  },
  {
   "cell_type": "code",
   "execution_count": 72,
   "id": "instant-library",
   "metadata": {},
   "outputs": [
    {
     "data": {
      "text/html": [
       "<div>\n",
       "<style scoped>\n",
       "    .dataframe tbody tr th:only-of-type {\n",
       "        vertical-align: middle;\n",
       "    }\n",
       "\n",
       "    .dataframe tbody tr th {\n",
       "        vertical-align: top;\n",
       "    }\n",
       "\n",
       "    .dataframe thead th {\n",
       "        text-align: right;\n",
       "    }\n",
       "</style>\n",
       "<table border=\"1\" class=\"dataframe\">\n",
       "  <thead>\n",
       "    <tr style=\"text-align: right;\">\n",
       "      <th></th>\n",
       "      <th>0</th>\n",
       "      <th>1</th>\n",
       "      <th>2</th>\n",
       "      <th>3</th>\n",
       "      <th>4</th>\n",
       "      <th>5</th>\n",
       "      <th>6</th>\n",
       "      <th>7</th>\n",
       "      <th>8</th>\n",
       "      <th>9</th>\n",
       "      <th>...</th>\n",
       "      <th>30</th>\n",
       "      <th>31</th>\n",
       "      <th>32</th>\n",
       "      <th>33</th>\n",
       "      <th>34</th>\n",
       "      <th>35</th>\n",
       "      <th>36</th>\n",
       "      <th>37</th>\n",
       "      <th>38</th>\n",
       "      <th>39</th>\n",
       "    </tr>\n",
       "  </thead>\n",
       "  <tbody>\n",
       "    <tr>\n",
       "      <th>0</th>\n",
       "      <td>-0.190308541059494</td>\n",
       "      <td>-0.431000</td>\n",
       "      <td>-0.455174</td>\n",
       "      <td>-0.541057</td>\n",
       "      <td>-1.320531</td>\n",
       "      <td>-0.927051</td>\n",
       "      <td>-0.402134</td>\n",
       "      <td>-0.356223</td>\n",
       "      <td>0.835622</td>\n",
       "      <td>0.067943</td>\n",
       "      <td>...</td>\n",
       "      <td>0.987761</td>\n",
       "      <td>-2.117521</td>\n",
       "      <td>1.448483</td>\n",
       "      <td>-1.196023</td>\n",
       "      <td>-8.947120</td>\n",
       "      <td>1.834282</td>\n",
       "      <td>-3.532674</td>\n",
       "      <td>0.414510</td>\n",
       "      <td>4.433297</td>\n",
       "      <td>10.465603828430176</td>\n",
       "    </tr>\n",
       "    <tr>\n",
       "      <th>1</th>\n",
       "      <td>0.138418436050415</td>\n",
       "      <td>0.001120</td>\n",
       "      <td>0.301824</td>\n",
       "      <td>-0.211635</td>\n",
       "      <td>0.211533</td>\n",
       "      <td>-0.272029</td>\n",
       "      <td>-0.038378</td>\n",
       "      <td>-0.510888</td>\n",
       "      <td>-0.578006</td>\n",
       "      <td>-0.116143</td>\n",
       "      <td>...</td>\n",
       "      <td>-1.632493</td>\n",
       "      <td>-0.455837</td>\n",
       "      <td>-1.050289</td>\n",
       "      <td>-3.471119</td>\n",
       "      <td>-0.414529</td>\n",
       "      <td>-0.923407</td>\n",
       "      <td>-0.138864</td>\n",
       "      <td>-0.199049</td>\n",
       "      <td>-0.066994</td>\n",
       "      <td>-0.698013961315155</td>\n",
       "    </tr>\n",
       "    <tr>\n",
       "      <th>2</th>\n",
       "      <td>1.648079633712768</td>\n",
       "      <td>0.773794</td>\n",
       "      <td>0.913804</td>\n",
       "      <td>1.092126</td>\n",
       "      <td>0.954116</td>\n",
       "      <td>-1.231683</td>\n",
       "      <td>-2.190715</td>\n",
       "      <td>-0.796078</td>\n",
       "      <td>3.435923</td>\n",
       "      <td>0.136425</td>\n",
       "      <td>...</td>\n",
       "      <td>-0.456708</td>\n",
       "      <td>-0.203406</td>\n",
       "      <td>-1.349557</td>\n",
       "      <td>-0.463756</td>\n",
       "      <td>-0.249245</td>\n",
       "      <td>0.200184</td>\n",
       "      <td>-0.007000</td>\n",
       "      <td>-0.102534</td>\n",
       "      <td>-0.068636</td>\n",
       "      <td>-0.956752598285675</td>\n",
       "    </tr>\n",
       "    <tr>\n",
       "      <th>3</th>\n",
       "      <td>-0.610481142997741</td>\n",
       "      <td>0.067148</td>\n",
       "      <td>1.076744</td>\n",
       "      <td>-0.189262</td>\n",
       "      <td>1.391599</td>\n",
       "      <td>-0.870279</td>\n",
       "      <td>2.245078</td>\n",
       "      <td>-0.523610</td>\n",
       "      <td>0.410218</td>\n",
       "      <td>2.408568</td>\n",
       "      <td>...</td>\n",
       "      <td>-0.777368</td>\n",
       "      <td>-0.191408</td>\n",
       "      <td>-0.358977</td>\n",
       "      <td>-0.835111</td>\n",
       "      <td>0.019646</td>\n",
       "      <td>-0.138538</td>\n",
       "      <td>-0.345333</td>\n",
       "      <td>0.218227</td>\n",
       "      <td>-0.265103</td>\n",
       "      <td>-1.088526010513305</td>\n",
       "    </tr>\n",
       "    <tr>\n",
       "      <th>4</th>\n",
       "      <td>0.015675960108637</td>\n",
       "      <td>0.029083</td>\n",
       "      <td>-0.142550</td>\n",
       "      <td>0.018011</td>\n",
       "      <td>0.057127</td>\n",
       "      <td>-0.086045</td>\n",
       "      <td>-0.034934</td>\n",
       "      <td>0.140776</td>\n",
       "      <td>0.280062</td>\n",
       "      <td>-0.279369</td>\n",
       "      <td>...</td>\n",
       "      <td>-1.105049</td>\n",
       "      <td>-0.423532</td>\n",
       "      <td>-2.338597</td>\n",
       "      <td>-0.002558</td>\n",
       "      <td>-0.546320</td>\n",
       "      <td>-0.531977</td>\n",
       "      <td>-0.451757</td>\n",
       "      <td>0.287398</td>\n",
       "      <td>-0.350299</td>\n",
       "      <td>-0.942629873752594</td>\n",
       "    </tr>\n",
       "  </tbody>\n",
       "</table>\n",
       "<p>5 rows × 40 columns</p>\n",
       "</div>"
      ],
      "text/plain": [
       "                   0         1         2         3         4         5   \\\n",
       "0  -0.190308541059494 -0.431000 -0.455174 -0.541057 -1.320531 -0.927051   \n",
       "1   0.138418436050415  0.001120  0.301824 -0.211635  0.211533 -0.272029   \n",
       "2   1.648079633712768  0.773794  0.913804  1.092126  0.954116 -1.231683   \n",
       "3  -0.610481142997741  0.067148  1.076744 -0.189262  1.391599 -0.870279   \n",
       "4   0.015675960108637  0.029083 -0.142550  0.018011  0.057127 -0.086045   \n",
       "\n",
       "         6         7         8         9   ...        30        31        32  \\\n",
       "0 -0.402134 -0.356223  0.835622  0.067943  ...  0.987761 -2.117521  1.448483   \n",
       "1 -0.038378 -0.510888 -0.578006 -0.116143  ... -1.632493 -0.455837 -1.050289   \n",
       "2 -2.190715 -0.796078  3.435923  0.136425  ... -0.456708 -0.203406 -1.349557   \n",
       "3  2.245078 -0.523610  0.410218  2.408568  ... -0.777368 -0.191408 -0.358977   \n",
       "4 -0.034934  0.140776  0.280062 -0.279369  ... -1.105049 -0.423532 -2.338597   \n",
       "\n",
       "         33        34        35        36        37        38  \\\n",
       "0 -1.196023 -8.947120  1.834282 -3.532674  0.414510  4.433297   \n",
       "1 -3.471119 -0.414529 -0.923407 -0.138864 -0.199049 -0.066994   \n",
       "2 -0.463756 -0.249245  0.200184 -0.007000 -0.102534 -0.068636   \n",
       "3 -0.835111  0.019646 -0.138538 -0.345333  0.218227 -0.265103   \n",
       "4 -0.002558 -0.546320 -0.531977 -0.451757  0.287398 -0.350299   \n",
       "\n",
       "                   39  \n",
       "0  10.465603828430176  \n",
       "1  -0.698013961315155  \n",
       "2  -0.956752598285675  \n",
       "3  -1.088526010513305  \n",
       "4  -0.942629873752594  \n",
       "\n",
       "[5 rows x 40 columns]"
      ]
     },
     "execution_count": 72,
     "metadata": {},
     "output_type": "execute_result"
    }
   ],
   "source": [
    "result.head()"
   ]
  },
  {
   "cell_type": "code",
   "execution_count": 73,
   "id": "welcome-machine",
   "metadata": {},
   "outputs": [],
   "source": [
    "# access the scores by iterating through the scores in the predictions\n",
    "predictions = np.array(result)"
   ]
  },
  {
   "cell_type": "code",
   "execution_count": 74,
   "id": "rental-packaging",
   "metadata": {},
   "outputs": [
    {
     "data": {
      "text/plain": [
       "array([['-0.190308541059494', -0.430999755859375, -0.455173879861831,\n",
       "        ..., 0.41451013088226296, 4.433296680450439,\n",
       "        '10.465603828430176'],\n",
       "       ['0.138418436050415', 0.001119523658417, 0.301824241876602, ...,\n",
       "        -0.199048861861228, -0.066993743181228, '-0.698013961315155'],\n",
       "       ['1.648079633712768', 0.773794412612915, 0.9138041138648979, ...,\n",
       "        -0.102533660829067, -0.068636484444141, '-0.956752598285675'],\n",
       "       ...,\n",
       "       ['0.017564490437507', 0.027563590556382998, 0.119562357664108,\n",
       "        ..., -0.231470391154289, 0.062455732375382995,\n",
       "        '-0.640268504619598'],\n",
       "       ['-0.559277713298797', 0.084126412868499, -0.473675400018692, ...,\n",
       "        0.203071177005767, -0.20091356337070398, '-0.890457272529602'],\n",
       "       ['-0.169272899627685', 0.390179187059402, 0.977512538433075, ...,\n",
       "        0.304942697286605, -0.232443019747734, '-0.855514705181121']],\n",
       "      dtype=object)"
      ]
     },
     "execution_count": 74,
     "metadata": {},
     "output_type": "execute_result"
    }
   ],
   "source": [
    "predictions"
   ]
  },
  {
   "cell_type": "code",
   "execution_count": 75,
   "id": "handy-river",
   "metadata": {},
   "outputs": [
    {
     "data": {
      "text/plain": [
       "(264534, 40)"
      ]
     },
     "execution_count": 75,
     "metadata": {},
     "output_type": "execute_result"
    }
   ],
   "source": [
    "predictions.shape"
   ]
  },
  {
   "cell_type": "markdown",
   "id": "clinical-sound",
   "metadata": {},
   "source": [
    "#  TRAIN AND EVALUATE XGBOOST MODEL ON DATA AFTER DIMENSIONALITY REDUCTION (USING SAGEMAKER)"
   ]
  },
  {
   "cell_type": "code",
   "execution_count": 76,
   "id": "going-theology",
   "metadata": {},
   "outputs": [
    {
     "data": {
      "text/plain": [
       "(264534, 40)"
      ]
     },
     "execution_count": 76,
     "metadata": {},
     "output_type": "execute_result"
    }
   ],
   "source": [
    "predictions.shape"
   ]
  },
  {
   "cell_type": "code",
   "execution_count": 77,
   "id": "historic-peripheral",
   "metadata": {},
   "outputs": [
    {
     "data": {
      "text/html": [
       "<div>\n",
       "<style scoped>\n",
       "    .dataframe tbody tr th:only-of-type {\n",
       "        vertical-align: middle;\n",
       "    }\n",
       "\n",
       "    .dataframe tbody tr th {\n",
       "        vertical-align: top;\n",
       "    }\n",
       "\n",
       "    .dataframe thead th {\n",
       "        text-align: right;\n",
       "    }\n",
       "</style>\n",
       "<table border=\"1\" class=\"dataframe\">\n",
       "  <thead>\n",
       "    <tr style=\"text-align: right;\">\n",
       "      <th></th>\n",
       "      <th>Target</th>\n",
       "    </tr>\n",
       "  </thead>\n",
       "  <tbody>\n",
       "    <tr>\n",
       "      <th>0</th>\n",
       "      <td>1</td>\n",
       "    </tr>\n",
       "    <tr>\n",
       "      <th>1</th>\n",
       "      <td>0</td>\n",
       "    </tr>\n",
       "    <tr>\n",
       "      <th>2</th>\n",
       "      <td>0</td>\n",
       "    </tr>\n",
       "    <tr>\n",
       "      <th>3</th>\n",
       "      <td>1</td>\n",
       "    </tr>\n",
       "    <tr>\n",
       "      <th>4</th>\n",
       "      <td>0</td>\n",
       "    </tr>\n",
       "    <tr>\n",
       "      <th>...</th>\n",
       "      <td>...</td>\n",
       "    </tr>\n",
       "    <tr>\n",
       "      <th>290431</th>\n",
       "      <td>0</td>\n",
       "    </tr>\n",
       "    <tr>\n",
       "      <th>290432</th>\n",
       "      <td>0</td>\n",
       "    </tr>\n",
       "    <tr>\n",
       "      <th>290433</th>\n",
       "      <td>1</td>\n",
       "    </tr>\n",
       "    <tr>\n",
       "      <th>290434</th>\n",
       "      <td>0</td>\n",
       "    </tr>\n",
       "    <tr>\n",
       "      <th>290435</th>\n",
       "      <td>0</td>\n",
       "    </tr>\n",
       "  </tbody>\n",
       "</table>\n",
       "<p>264534 rows × 1 columns</p>\n",
       "</div>"
      ],
      "text/plain": [
       "        Target\n",
       "0            1\n",
       "1            0\n",
       "2            0\n",
       "3            1\n",
       "4            0\n",
       "...        ...\n",
       "290431       0\n",
       "290432       0\n",
       "290433       1\n",
       "290434       0\n",
       "290435       0\n",
       "\n",
       "[264534 rows x 1 columns]"
      ]
     },
     "execution_count": 77,
     "metadata": {},
     "output_type": "execute_result"
    }
   ],
   "source": [
    "# Convert the array into dataframe in a way that target variable is set as the first column and is followed by feature columns\n",
    "# This is because sagemaker built-in algorithm expects the data in this format\n",
    "# train_data: start with dependent variable in first column:\n",
    "\n",
    "train_data = pd.DataFrame({'Target':df_target})\n",
    "train_data"
   ]
  },
  {
   "cell_type": "code",
   "execution_count": 78,
   "id": "freelance-miniature",
   "metadata": {},
   "outputs": [],
   "source": [
    "# then add in the independent variables into the train_data dataset\n",
    "for i in range(predictions.shape[1]):\n",
    "    train_data[i] = predictions[:,i]"
   ]
  },
  {
   "cell_type": "code",
   "execution_count": 79,
   "id": "ideal-final",
   "metadata": {},
   "outputs": [
    {
     "data": {
      "text/html": [
       "<div>\n",
       "<style scoped>\n",
       "    .dataframe tbody tr th:only-of-type {\n",
       "        vertical-align: middle;\n",
       "    }\n",
       "\n",
       "    .dataframe tbody tr th {\n",
       "        vertical-align: top;\n",
       "    }\n",
       "\n",
       "    .dataframe thead th {\n",
       "        text-align: right;\n",
       "    }\n",
       "</style>\n",
       "<table border=\"1\" class=\"dataframe\">\n",
       "  <thead>\n",
       "    <tr style=\"text-align: right;\">\n",
       "      <th></th>\n",
       "      <th>Target</th>\n",
       "      <th>0</th>\n",
       "      <th>1</th>\n",
       "      <th>2</th>\n",
       "      <th>3</th>\n",
       "      <th>4</th>\n",
       "      <th>5</th>\n",
       "      <th>6</th>\n",
       "      <th>7</th>\n",
       "      <th>8</th>\n",
       "      <th>...</th>\n",
       "      <th>30</th>\n",
       "      <th>31</th>\n",
       "      <th>32</th>\n",
       "      <th>33</th>\n",
       "      <th>34</th>\n",
       "      <th>35</th>\n",
       "      <th>36</th>\n",
       "      <th>37</th>\n",
       "      <th>38</th>\n",
       "      <th>39</th>\n",
       "    </tr>\n",
       "  </thead>\n",
       "  <tbody>\n",
       "    <tr>\n",
       "      <th>0</th>\n",
       "      <td>1</td>\n",
       "      <td>-0.190308541059494</td>\n",
       "      <td>-0.431</td>\n",
       "      <td>-0.455174</td>\n",
       "      <td>-0.541057</td>\n",
       "      <td>-1.32053</td>\n",
       "      <td>-0.927051</td>\n",
       "      <td>-0.402134</td>\n",
       "      <td>-0.356223</td>\n",
       "      <td>0.835622</td>\n",
       "      <td>...</td>\n",
       "      <td>0.987761</td>\n",
       "      <td>-2.11752</td>\n",
       "      <td>1.44848</td>\n",
       "      <td>-1.19602</td>\n",
       "      <td>-8.94712</td>\n",
       "      <td>1.83428</td>\n",
       "      <td>-3.53267</td>\n",
       "      <td>0.41451</td>\n",
       "      <td>4.4333</td>\n",
       "      <td>10.465603828430176</td>\n",
       "    </tr>\n",
       "    <tr>\n",
       "      <th>1</th>\n",
       "      <td>0</td>\n",
       "      <td>0.138418436050415</td>\n",
       "      <td>0.00111952</td>\n",
       "      <td>0.301824</td>\n",
       "      <td>-0.211635</td>\n",
       "      <td>0.211533</td>\n",
       "      <td>-0.272029</td>\n",
       "      <td>-0.0383781</td>\n",
       "      <td>-0.510888</td>\n",
       "      <td>-0.578006</td>\n",
       "      <td>...</td>\n",
       "      <td>-1.63249</td>\n",
       "      <td>-0.455837</td>\n",
       "      <td>-1.05029</td>\n",
       "      <td>-3.47112</td>\n",
       "      <td>-0.414529</td>\n",
       "      <td>-0.923407</td>\n",
       "      <td>-0.138864</td>\n",
       "      <td>-0.199049</td>\n",
       "      <td>-0.0669937</td>\n",
       "      <td>-0.698013961315155</td>\n",
       "    </tr>\n",
       "    <tr>\n",
       "      <th>2</th>\n",
       "      <td>0</td>\n",
       "      <td>1.648079633712768</td>\n",
       "      <td>0.773794</td>\n",
       "      <td>0.913804</td>\n",
       "      <td>1.09213</td>\n",
       "      <td>0.954116</td>\n",
       "      <td>-1.23168</td>\n",
       "      <td>-2.19071</td>\n",
       "      <td>-0.796078</td>\n",
       "      <td>3.43592</td>\n",
       "      <td>...</td>\n",
       "      <td>-0.456708</td>\n",
       "      <td>-0.203406</td>\n",
       "      <td>-1.34956</td>\n",
       "      <td>-0.463756</td>\n",
       "      <td>-0.249245</td>\n",
       "      <td>0.200184</td>\n",
       "      <td>-0.00700023</td>\n",
       "      <td>-0.102534</td>\n",
       "      <td>-0.0686365</td>\n",
       "      <td>-0.956752598285675</td>\n",
       "    </tr>\n",
       "    <tr>\n",
       "      <th>3</th>\n",
       "      <td>1</td>\n",
       "      <td>-0.610481142997741</td>\n",
       "      <td>0.0671484</td>\n",
       "      <td>1.07674</td>\n",
       "      <td>-0.189262</td>\n",
       "      <td>1.3916</td>\n",
       "      <td>-0.870279</td>\n",
       "      <td>2.24508</td>\n",
       "      <td>-0.52361</td>\n",
       "      <td>0.410218</td>\n",
       "      <td>...</td>\n",
       "      <td>-0.777368</td>\n",
       "      <td>-0.191408</td>\n",
       "      <td>-0.358977</td>\n",
       "      <td>-0.835111</td>\n",
       "      <td>0.0196461</td>\n",
       "      <td>-0.138538</td>\n",
       "      <td>-0.345333</td>\n",
       "      <td>0.218227</td>\n",
       "      <td>-0.265103</td>\n",
       "      <td>-1.088526010513305</td>\n",
       "    </tr>\n",
       "    <tr>\n",
       "      <th>4</th>\n",
       "      <td>0</td>\n",
       "      <td>0.015675960108637</td>\n",
       "      <td>0.0290826</td>\n",
       "      <td>-0.14255</td>\n",
       "      <td>0.0180115</td>\n",
       "      <td>0.057127</td>\n",
       "      <td>-0.0860452</td>\n",
       "      <td>-0.0349339</td>\n",
       "      <td>0.140776</td>\n",
       "      <td>0.280062</td>\n",
       "      <td>...</td>\n",
       "      <td>-1.10505</td>\n",
       "      <td>-0.423532</td>\n",
       "      <td>-2.3386</td>\n",
       "      <td>-0.0025581</td>\n",
       "      <td>-0.54632</td>\n",
       "      <td>-0.531977</td>\n",
       "      <td>-0.451757</td>\n",
       "      <td>0.287398</td>\n",
       "      <td>-0.350299</td>\n",
       "      <td>-0.942629873752594</td>\n",
       "    </tr>\n",
       "  </tbody>\n",
       "</table>\n",
       "<p>5 rows × 41 columns</p>\n",
       "</div>"
      ],
      "text/plain": [
       "   Target                   0           1         2          3         4  \\\n",
       "0       1  -0.190308541059494      -0.431 -0.455174  -0.541057  -1.32053   \n",
       "1       0   0.138418436050415  0.00111952  0.301824  -0.211635  0.211533   \n",
       "2       0   1.648079633712768    0.773794  0.913804    1.09213  0.954116   \n",
       "3       1  -0.610481142997741   0.0671484   1.07674  -0.189262    1.3916   \n",
       "4       0   0.015675960108637   0.0290826  -0.14255  0.0180115  0.057127   \n",
       "\n",
       "           5          6         7         8  ...        30        31  \\\n",
       "0  -0.927051  -0.402134 -0.356223  0.835622  ...  0.987761  -2.11752   \n",
       "1  -0.272029 -0.0383781 -0.510888 -0.578006  ...  -1.63249 -0.455837   \n",
       "2   -1.23168   -2.19071 -0.796078   3.43592  ... -0.456708 -0.203406   \n",
       "3  -0.870279    2.24508  -0.52361  0.410218  ... -0.777368 -0.191408   \n",
       "4 -0.0860452 -0.0349339  0.140776  0.280062  ...  -1.10505 -0.423532   \n",
       "\n",
       "         32         33         34        35          36        37         38  \\\n",
       "0   1.44848   -1.19602   -8.94712   1.83428    -3.53267   0.41451     4.4333   \n",
       "1  -1.05029   -3.47112  -0.414529 -0.923407   -0.138864 -0.199049 -0.0669937   \n",
       "2  -1.34956  -0.463756  -0.249245  0.200184 -0.00700023 -0.102534 -0.0686365   \n",
       "3 -0.358977  -0.835111  0.0196461 -0.138538   -0.345333  0.218227  -0.265103   \n",
       "4   -2.3386 -0.0025581   -0.54632 -0.531977   -0.451757  0.287398  -0.350299   \n",
       "\n",
       "                   39  \n",
       "0  10.465603828430176  \n",
       "1  -0.698013961315155  \n",
       "2  -0.956752598285675  \n",
       "3  -1.088526010513305  \n",
       "4  -0.942629873752594  \n",
       "\n",
       "[5 rows x 41 columns]"
      ]
     },
     "execution_count": 79,
     "metadata": {},
     "output_type": "execute_result"
    }
   ],
   "source": [
    "train_data.head()"
   ]
  },
  {
   "cell_type": "markdown",
   "id": "variable-sarah",
   "metadata": {},
   "source": [
    "# Split Dataset into Training, Validation, and Test"
   ]
  },
  {
   "cell_type": "code",
   "execution_count": 80,
   "id": "assigned-harris",
   "metadata": {},
   "outputs": [
    {
     "data": {
      "text/plain": [
       "211627"
      ]
     },
     "execution_count": 80,
     "metadata": {},
     "output_type": "execute_result"
    }
   ],
   "source": [
    "# You can change the % in the next line of code to determine split for Training, Validation, and Testing\n",
    "\n",
    "train_pct = 0.8\n",
    "\n",
    "train_data_size = int(train_pct * train_data.shape[0])\n",
    "train_data_size"
   ]
  },
  {
   "cell_type": "code",
   "execution_count": 81,
   "id": "entire-fiber",
   "metadata": {},
   "outputs": [],
   "source": [
    "# shuffle the data in dataframe and then split the dataframe into train, test and validation sets.\n",
    "# then make test and valid datasets equal to 50% each of the remaining non training observations.\n",
    "\n",
    "import sklearn\n",
    "\n",
    "train_data = sklearn.utils.shuffle(train_data)\n",
    "train = train_data[:train_data_size]\n",
    "\n"
   ]
  },
  {
   "cell_type": "code",
   "execution_count": 82,
   "id": "romantic-seattle",
   "metadata": {},
   "outputs": [],
   "source": [
    "test = train_data[train_data_size:train_data_size + int((len(train_data) - train_data_size) * 0.50)]"
   ]
  },
  {
   "cell_type": "code",
   "execution_count": 83,
   "id": "fundamental-today",
   "metadata": {},
   "outputs": [],
   "source": [
    "valid = train_data[train_data_size + int(len(test)):]"
   ]
  },
  {
   "cell_type": "code",
   "execution_count": 84,
   "id": "accredited-seattle",
   "metadata": {},
   "outputs": [
    {
     "data": {
      "text/plain": [
       "((211627, 41), (26453, 41), (26454, 41))"
      ]
     },
     "execution_count": 84,
     "metadata": {},
     "output_type": "execute_result"
    }
   ],
   "source": [
    "train.shape, test.shape,valid.shape"
   ]
  },
  {
   "cell_type": "code",
   "execution_count": 85,
   "id": "competent-teacher",
   "metadata": {},
   "outputs": [],
   "source": [
    "X_test, y_test = test.drop(columns = ['Target']), test['Target']"
   ]
  },
  {
   "cell_type": "code",
   "execution_count": 86,
   "id": "norman-population",
   "metadata": {},
   "outputs": [],
   "source": [
    "X_train, y_train = train.drop(columns = ['Target']), train['Target']\n",
    "X_valid, y_valid = valid.drop(columns = ['Target']), valid['Target']"
   ]
  },
  {
   "cell_type": "code",
   "execution_count": 87,
   "id": "amino-immune",
   "metadata": {},
   "outputs": [
    {
     "data": {
      "text/plain": [
       "211627"
      ]
     },
     "execution_count": 87,
     "metadata": {},
     "output_type": "execute_result"
    }
   ],
   "source": [
    "len(y_train)"
   ]
  },
  {
   "cell_type": "code",
   "execution_count": 88,
   "id": "realistic-projection",
   "metadata": {},
   "outputs": [],
   "source": [
    "# save train and valid data as csv files\n",
    "\n",
    "train.to_csv('train.csv',header = False, index = False)\n",
    "valid.to_csv('valid.csv',header = False, index = False)\n"
   ]
  },
  {
   "cell_type": "code",
   "execution_count": 89,
   "id": "specific-jaguar",
   "metadata": {},
   "outputs": [
    {
     "name": "stdout",
     "output_type": "stream",
     "text": [
      "uploaded test data location: s3://bnds-sagemaker-sp/XGBoost-Classifier/test/X-test.csv\n"
     ]
    }
   ],
   "source": [
    "# upload csv version of test dataset for use in batch transform instead of invoking endpoint:\n",
    "pd.DataFrame(X_test).to_csv('X-test.csv', index=False, header=False)\n",
    "\n",
    "prefix = 'XGBoost-Classifier'\n",
    "key = 'X-test.csv'\n",
    "\n",
    "boto3.Session().resource('s3').Bucket(bucket).Object(\n",
    "os.path.join(prefix, 'test', key)).upload_file(key)\n",
    "\n",
    "# Let's print out the batch transform testing data location in s3\n",
    "s3_test_data = 's3://{}/{}/test/{}'.format(bucket, prefix, key)\n",
    "print('uploaded test data location: {}'.format(s3_test_data))"
   ]
  },
  {
   "cell_type": "code",
   "execution_count": 90,
   "id": "referenced-chuck",
   "metadata": {},
   "outputs": [
    {
     "name": "stdout",
     "output_type": "stream",
     "text": [
      "uploaded y-test data location: s3://bnds-sagemaker-sp/XGBoost-Classifier/test/y-test.csv\n"
     ]
    }
   ],
   "source": [
    "# upload csv version of test dataset dependent variable for later use in analyzing training metrics:\n",
    "pd.DataFrame(y_test).to_csv('y-test.csv', index=False, header=False)\n",
    "\n",
    "prefix = 'XGBoost-Classifier'\n",
    "key = 'y-test.csv'\n",
    "\n",
    "boto3.Session().resource('s3').Bucket(bucket).Object(\n",
    "os.path.join(prefix, 'test', key)).upload_file(key)\n",
    "\n",
    "# Let's print out the data location in s3\n",
    "s3_y_test_data = 's3://{}/{}/test/{}'.format(bucket, prefix, key)\n",
    "print('uploaded y-test data location: {}'.format(s3_y_test_data))"
   ]
  },
  {
   "cell_type": "code",
   "execution_count": 91,
   "id": "moved-wonder",
   "metadata": {},
   "outputs": [
    {
     "name": "stdout",
     "output_type": "stream",
     "text": [
      "uploaded X-train data location: s3://bnds-sagemaker-sp/XGBoost-Classifier/train/X-train.csv\n"
     ]
    }
   ],
   "source": [
    "# upload csv version of training dataset w/o dependent variable for use in batch transform instead of invoking endpoint:\n",
    "pd.DataFrame(X_train).to_csv('X-train.csv', index=False, header=False)\n",
    "\n",
    "prefix = 'XGBoost-Classifier'\n",
    "key = 'X-train.csv'\n",
    "\n",
    "boto3.Session().resource('s3').Bucket(bucket).Object(\n",
    "os.path.join(prefix, 'train', key)).upload_file(key)\n",
    "\n",
    "# Let's print out the batch transform training data location in s3\n",
    "s3_Xtrain_data = 's3://{}/{}/train/{}'.format(bucket, prefix, key)\n",
    "print('uploaded X-train data location: {}'.format(s3_Xtrain_data))"
   ]
  },
  {
   "cell_type": "code",
   "execution_count": 92,
   "id": "basic-gross",
   "metadata": {},
   "outputs": [
    {
     "name": "stdout",
     "output_type": "stream",
     "text": [
      "uploaded y-train data location: s3://bnds-sagemaker-sp/XGBoost-Classifier/train/y-train.csv\n"
     ]
    }
   ],
   "source": [
    "# upload csv version of training dependent variable dataset for later use in analyzing training metrics:\n",
    "pd.DataFrame(y_train).to_csv('y-train.csv', index=False, header=False)\n",
    "\n",
    "prefix = 'XGBoost-Classifier'\n",
    "key = 'y-train.csv'\n",
    "\n",
    "boto3.Session().resource('s3').Bucket(bucket).Object(\n",
    "os.path.join(prefix, 'train', key)).upload_file(key)\n",
    "\n",
    "# Let's print out the y training data location in s3\n",
    "s3_y_train_data = 's3://{}/{}/train/{}'.format(bucket, prefix, key)\n",
    "print('uploaded y-train data location: {}'.format(s3_y_train_data))"
   ]
  },
  {
   "cell_type": "code",
   "execution_count": 93,
   "id": "linear-family",
   "metadata": {},
   "outputs": [
    {
     "name": "stdout",
     "output_type": "stream",
     "text": [
      "uploaded X-valid data location: s3://bnds-sagemaker-sp/XGBoost-Classifier/valid/X-valid.csv\n"
     ]
    }
   ],
   "source": [
    "# upload csv version of validation dataset w/o dependent variable for use in batch transform instead of invoking endpoint:\n",
    "pd.DataFrame(X_valid).to_csv('X-valid.csv', index=False, header=False)\n",
    "\n",
    "prefix = 'XGBoost-Classifier'\n",
    "key = 'X-valid.csv'\n",
    "\n",
    "boto3.Session().resource('s3').Bucket(bucket).Object(\n",
    "os.path.join(prefix, 'valid', key)).upload_file(key)\n",
    "\n",
    "# Let's print out the batch transform valid data location in s3\n",
    "s3_Xvalid_data = 's3://{}/{}/valid/{}'.format(bucket, prefix, key)\n",
    "print('uploaded X-valid data location: {}'.format(s3_Xvalid_data))"
   ]
  },
  {
   "cell_type": "code",
   "execution_count": 94,
   "id": "caroline-split",
   "metadata": {},
   "outputs": [
    {
     "name": "stdout",
     "output_type": "stream",
     "text": [
      "uploaded y-valid data location: s3://bnds-sagemaker-sp/XGBoost-Classifier/valid/y-valid.csv\n"
     ]
    }
   ],
   "source": [
    "# upload csv version of dependent variable for the validation dataset for use later in analyzing training metrics:\n",
    "pd.DataFrame(y_valid).to_csv('y-valid.csv', index=False, header=False)\n",
    "\n",
    "prefix = 'XGBoost-Classifier'\n",
    "key = 'y-valid.csv'\n",
    "\n",
    "boto3.Session().resource('s3').Bucket(bucket).Object(\n",
    "os.path.join(prefix, 'valid', key)).upload_file(key)\n",
    "\n",
    "# Let's print out the batch transform valid data location in s3\n",
    "s3_y_valid_data = 's3://{}/{}/valid/{}'.format(bucket, prefix, key)\n",
    "print('uploaded y-valid data location: {}'.format(s3_y_valid_data))"
   ]
  },
  {
   "cell_type": "code",
   "execution_count": 95,
   "id": "separate-governor",
   "metadata": {},
   "outputs": [],
   "source": [
    "prefix = 'XGBoost-Classifier'\n",
    "key = 'train.csv'"
   ]
  },
  {
   "cell_type": "code",
   "execution_count": 96,
   "id": "premium-couple",
   "metadata": {},
   "outputs": [
    {
     "name": "stdout",
     "output_type": "stream",
     "text": [
      "uploaded training data location: s3://bnds-sagemaker-sp/XGBoost-Classifier/train/train.csv\n"
     ]
    }
   ],
   "source": [
    "# read the data from csv file and then upload the data to s3 bucket\n",
    "with open('train.csv','rb') as f:\n",
    "    # The following code uploads the data into S3 bucket to be accessed later for training\n",
    "    boto3.Session().resource('s3').Bucket(bucket).Object(os.path.join(prefix, 'train', key)).upload_fileobj(f)\n",
    "\n",
    "# Let's print out the training data location in s3\n",
    "s3_train_data = 's3://{}/{}/train/{}'.format(bucket, prefix, key)\n",
    "print('uploaded training data location: {}'.format(s3_train_data))"
   ]
  },
  {
   "cell_type": "code",
   "execution_count": 97,
   "id": "digital-marker",
   "metadata": {},
   "outputs": [],
   "source": [
    "prefix = 'XGBoost-Classifier'\n",
    "key = 'valid.csv'"
   ]
  },
  {
   "cell_type": "code",
   "execution_count": 98,
   "id": "organizational-kazakhstan",
   "metadata": {},
   "outputs": [
    {
     "name": "stdout",
     "output_type": "stream",
     "text": [
      "uploaded validation data location: s3://bnds-sagemaker-sp/XGBoost-Classifier/valid/valid.csv\n"
     ]
    }
   ],
   "source": [
    "# reading the data from csv file and then upload the data to s3 bucket\n",
    "with open('valid.csv','rb') as f:\n",
    "    # The following code uploads the data into S3 bucket to be accessed later for training\n",
    "    boto3.Session().resource('s3').Bucket(bucket).Object(os.path.join(prefix, 'valid', key)).upload_fileobj(f)\n",
    "\n",
    "# Let's print out the validation data location in s3\n",
    "s3_valid_data = 's3://{}/{}/valid/{}'.format(bucket, prefix, key)\n",
    "print('uploaded validation data location: {}'.format(s3_valid_data))"
   ]
  },
  {
   "cell_type": "code",
   "execution_count": 99,
   "id": "sonic-cologne",
   "metadata": {},
   "outputs": [
    {
     "name": "stdout",
     "output_type": "stream",
     "text": [
      "training artifacts will be uploaded to: s3://bnds-sagemaker-sp/XGBoost-Classifier/output\n"
     ]
    }
   ],
   "source": [
    "# creates output placeholder in S3 bucket to store the output\n",
    "\n",
    "output_location = 's3://{}/{}/output'.format(bucket, prefix)\n",
    "batch_output = output_location\n",
    "print('training artifacts will be uploaded to: {}'.format(output_location))"
   ]
  },
  {
   "cell_type": "code",
   "execution_count": 100,
   "id": "complex-class",
   "metadata": {},
   "outputs": [],
   "source": [
    "# Create \"train\", \"validation\" channels to feed in the model\n",
    "# Source: https://docs.aws.amazon.com/sagemaker/latest/dg/sagemaker-algo-docker-registry-paths.html\n",
    "\n",
    "train_input = sagemaker.inputs.TrainingInput(s3_data = s3_train_data, content_type='csv',s3_data_type = 'S3Prefix')\n",
    "valid_input = sagemaker.inputs.TrainingInput(s3_data = s3_valid_data, content_type='csv',s3_data_type = 'S3Prefix')\n",
    "\n"
   ]
  },
  {
   "cell_type": "code",
   "execution_count": 101,
   "id": "several-associate",
   "metadata": {},
   "outputs": [],
   "source": [
    "# create a Sagemaker session\n",
    "sagemaker_session = sagemaker.Session()\n",
    "\n",
    "# get the execution role  \n",
    "\n",
    "role = sagemaker.get_execution_role()\n",
    "\n",
    "# This code is used to get the training container of sagemaker built-in algorithms\n",
    "\n",
    "# obtain a reference to the XGBoost container image\n",
    "\n",
    "container = sagemaker.image_uris.retrieve(\"xgboost\", boto3.Session().region_name, '0.90-2')\n"
   ]
  },
  {
   "cell_type": "code",
   "execution_count": 102,
   "id": "explicit-switzerland",
   "metadata": {},
   "outputs": [],
   "source": [
    "# pass in the container, the type of instance that we would like to use for training \n",
    "# output path and sagemaker session into the Estimator. \n",
    "\n",
    "\n",
    "Xgboost_classifier = sagemaker.estimator.Estimator(container,\n",
    "                                       role, \n",
    "                                       instance_count=1, \n",
    "                                       instance_type='ml.m4.xlarge',\n",
    "                                       output_path=output_location,\n",
    "                                       sagemaker_session=sagemaker_session,\n",
    "                                       use_spot_instances = True,\n",
    "                                       max_run = 300,\n",
    "                                       max_wait = 600)\n",
    "\n",
    "# To improve the performance of the model, a hyperparameters tuning job need to be run \n",
    "\n",
    "Xgboost_classifier.set_hyperparameters(max_depth=20,\n",
    "                           eval_metric='auc',\n",
    "                           objective='binary:logistic',\n",
    "                           eta = 0.1,\n",
    "                           num_round = 50,\n",
    "                           subsample = 1,\n",
    "                           colsample_bytree = 0.8,\n",
    "                           gamma = 1            \n",
    "                           )"
   ]
  },
  {
   "cell_type": "raw",
   "id": "defensive-marker",
   "metadata": {},
   "source": [
    "# TURNED OFF FOR NOW WHILE WE RUN RANDOM SEARCH HYPERPARAMETER TUNING JOBS\n",
    "\n",
    "# Xgboost_classifier.fit({'train': train_input, 'validation': valid_input})"
   ]
  },
  {
   "cell_type": "code",
   "execution_count": 103,
   "id": "partial-compiler",
   "metadata": {},
   "outputs": [],
   "source": [
    "# The following cells are for hyperparemeter tuning using random search"
   ]
  },
  {
   "cell_type": "code",
   "execution_count": 104,
   "id": "economic-pizza",
   "metadata": {},
   "outputs": [],
   "source": [
    "from sagemaker.tuner import IntegerParameter, CategoricalParameter, ContinuousParameter, HyperparameterTuner\n",
    "\n",
    "# Logarithmic scaling\n",
    "hyperparameter_ranges = {\n",
    "    'alpha': ContinuousParameter(0.01, 10, scaling_type=\"Logarithmic\"),\n",
    "    'lambda': ContinuousParameter(0.01, 10, scaling_type=\"Logarithmic\"),\n",
    "    'eta': ContinuousParameter(0, 1),\n",
    "    'max_depth': IntegerParameter(1, 20)\n",
    "}"
   ]
  },
  {
   "cell_type": "code",
   "execution_count": 105,
   "id": "frequent-disposition",
   "metadata": {},
   "outputs": [],
   "source": [
    "objective_metric_name = 'validation:auc'"
   ]
  },
  {
   "cell_type": "code",
   "execution_count": 106,
   "id": "subtle-return",
   "metadata": {},
   "outputs": [
    {
     "name": "stdout",
     "output_type": "stream",
     "text": [
      "...........................................................................................................................................................!\n"
     ]
    }
   ],
   "source": [
    "# Random Search\n",
    "tuner_log = HyperparameterTuner(\n",
    "    Xgboost_classifier,\n",
    "    objective_metric_name,\n",
    "    hyperparameter_ranges,\n",
    "    max_jobs=20,\n",
    "    max_parallel_jobs=10,\n",
    "    strategy='Random'\n",
    ")\n",
    "\n",
    "tuner_log.fit({'train': train_input, 'validation': valid_input}, include_cls_metadata=False)"
   ]
  },
  {
   "cell_type": "code",
   "execution_count": 107,
   "id": "bright-study",
   "metadata": {},
   "outputs": [
    {
     "data": {
      "text/plain": [
       "'Completed'"
      ]
     },
     "execution_count": 107,
     "metadata": {},
     "output_type": "execute_result"
    }
   ],
   "source": [
    "# check to see if hyperparameter tuning job started\n",
    "boto3.client('sagemaker').describe_hyper_parameter_tuning_job(\n",
    "    HyperParameterTuningJobName=tuner_log.latest_tuning_job.job_name)['HyperParameterTuningJobStatus']"
   ]
  },
  {
   "cell_type": "code",
   "execution_count": 108,
   "id": "humanitarian-perspective",
   "metadata": {},
   "outputs": [],
   "source": [
    "# check jobs have finished\n",
    "status_log = boto3.client('sagemaker').describe_hyper_parameter_tuning_job(\n",
    "    HyperParameterTuningJobName=tuner_log.latest_tuning_job.job_name)['HyperParameterTuningJobStatus']\n",
    "assert status_log == 'Completed', \"First must be completed, was {}\".format(status_log)\n"
   ]
  },
  {
   "cell_type": "markdown",
   "id": "prescribed-ebony",
   "metadata": {},
   "source": [
    "## Get Predictions for Test Dataset"
   ]
  },
  {
   "cell_type": "markdown",
   "id": "polished-tuner",
   "metadata": {},
   "source": [
    "The next four cells are for batch inference from a pre-existing model saved in Sagemaker. Turn these cells on or off depending\n",
    "on whether or not you want to use a pre-existing model or a newly created one during this kernel processing."
   ]
  },
  {
   "cell_type": "code",
   "execution_count": 109,
   "id": "tracked-entity",
   "metadata": {},
   "outputs": [],
   "source": [
    "from time import gmtime, strftime\n",
    "import sagemaker\n",
    "import boto3\n",
    "\n",
    "Modelname = 'cc-bank-pca-xgboost-random-22-03-2021-16-57' # the fine tuned model name we already have\n",
    "transformJobName = 'xgboost-test-batch-'+ strftime(\"%Y-%m-%d-%H-%M-%S\", gmtime())"
   ]
  },
  {
   "cell_type": "code",
   "execution_count": 110,
   "id": "actual-liberia",
   "metadata": {},
   "outputs": [],
   "source": [
    "client = boto3.client('sagemaker')"
   ]
  },
  {
   "cell_type": "code",
   "execution_count": 111,
   "id": "central-saint",
   "metadata": {},
   "outputs": [],
   "source": [
    "bucket = 'bnds-sagemaker-sp'  \n",
    "prefix = 'XGBoost-Classifier' \n",
    "\n",
    "# The location of the testing dataset\n",
    "batch_input = 's3://{}/{}/test/X-test.csv'.format(bucket,prefix) # test data used for prediction\n",
    "output_location = 's3://{}/{}/output'.format(bucket, prefix)\n",
    "batch_output = output_location"
   ]
  },
  {
   "cell_type": "code",
   "execution_count": 112,
   "id": "attempted-shareware",
   "metadata": {},
   "outputs": [],
   "source": [
    "create_batch = client.create_transform_job(\n",
    "    TransformJobName=transformJobName,\n",
    "    ModelName=Modelname,\n",
    "    MaxConcurrentTransforms=0,\n",
    "    MaxPayloadInMB=6,\n",
    "    BatchStrategy='MultiRecord',\n",
    "    TransformInput={\n",
    "        'DataSource': {\n",
    "            'S3DataSource': {\n",
    "                'S3DataType': 'S3Prefix',\n",
    "                'S3Uri': batch_input \n",
    "            }\n",
    "        },\n",
    "        'ContentType': 'text/csv',\n",
    "        'CompressionType': 'None',\n",
    "        'SplitType': 'Line'\n",
    "    },\n",
    "    TransformOutput={\n",
    "        'S3OutputPath': batch_output,\n",
    "        'AssembleWith': 'Line'\n",
    "    },\n",
    "    TransformResources={\n",
    "        'InstanceType': 'ml.m4.xlarge',\n",
    "        'InstanceCount': 1\n",
    "    }\n",
    "    )\n"
   ]
  },
  {
   "cell_type": "markdown",
   "id": "respected-drilling",
   "metadata": {},
   "source": [
    "The next three cells are for getting batch predictions from a newly created model (one that was created during current kernel processing. Turn these cells off if you used the four cells above for inference from a previously stored model."
   ]
  },
  {
   "cell_type": "code",
   "execution_count": null,
   "id": "governing-practice",
   "metadata": {},
   "outputs": [],
   "source": [
    "# Run this cell to get inference from newly created model via a transformer object\n",
    "\n",
    "transformer = Xgboost_classifier.transformer(\n",
    "    instance_count=1, \n",
    "    instance_type='ml.m4.xlarge',\n",
    "    max_payload=6,\n",
    "    strategy='MultiRecord',\n",
    "    output_path=batch_output\n",
    ")\n",
    "\n",
    "print ('batch transform output uploaded to: {}'.format(batch_output))"
   ]
  },
  {
   "cell_type": "code",
   "execution_count": null,
   "id": "undefined-fantasy",
   "metadata": {},
   "outputs": [],
   "source": [
    "bucket = 'bnds-sagemaker-sp'  \n",
    "prefix = 'XGBoost-Classifier' \n",
    "\n",
    "# The location of the test dataset\n",
    "batch_input = 's3://{}/{}/test/X-test.csv'.format(bucket, prefix)\n",
    "print('test data uploaded to: {}'.format(batch_input))"
   ]
  },
  {
   "cell_type": "code",
   "execution_count": null,
   "id": "difficult-analysis",
   "metadata": {},
   "outputs": [],
   "source": [
    "# Initiate the batch transform job by executing the transform() method of the transformer object\n",
    "transformer.transform(\n",
    "    data=batch_input, \n",
    "    data_type='S3Prefix',\n",
    "    content_type='text/csv',\n",
    "    split_type='Line'\n",
    ")\n",
    "transformer.wait()\n"
   ]
  },
  {
   "cell_type": "code",
   "execution_count": 4,
   "id": "corporate-yeast",
   "metadata": {},
   "outputs": [],
   "source": [
    "bucket = 'bnds-sagemaker-sp'  \n",
    "prefix = 'XGBoost-Classifier' \n",
    "XGB_prediction_test = pd.read_csv('s3://{}/{}/output/X-test.csv.out'.format(bucket, prefix), header=None)"
   ]
  },
  {
   "cell_type": "code",
   "execution_count": 5,
   "id": "found-russian",
   "metadata": {},
   "outputs": [
    {
     "data": {
      "text/plain": [
       "26453"
      ]
     },
     "execution_count": 5,
     "metadata": {},
     "output_type": "execute_result"
    }
   ],
   "source": [
    "len(XGB_prediction_test)"
   ]
  },
  {
   "cell_type": "code",
   "execution_count": 6,
   "id": "complete-factor",
   "metadata": {},
   "outputs": [
    {
     "data": {
      "text/html": [
       "<div>\n",
       "<style scoped>\n",
       "    .dataframe tbody tr th:only-of-type {\n",
       "        vertical-align: middle;\n",
       "    }\n",
       "\n",
       "    .dataframe tbody tr th {\n",
       "        vertical-align: top;\n",
       "    }\n",
       "\n",
       "    .dataframe thead th {\n",
       "        text-align: right;\n",
       "    }\n",
       "</style>\n",
       "<table border=\"1\" class=\"dataframe\">\n",
       "  <thead>\n",
       "    <tr style=\"text-align: right;\">\n",
       "      <th></th>\n",
       "      <th>0</th>\n",
       "    </tr>\n",
       "  </thead>\n",
       "  <tbody>\n",
       "    <tr>\n",
       "      <th>0</th>\n",
       "      <td>0.439361</td>\n",
       "    </tr>\n",
       "    <tr>\n",
       "      <th>1</th>\n",
       "      <td>0.453460</td>\n",
       "    </tr>\n",
       "    <tr>\n",
       "      <th>2</th>\n",
       "      <td>0.392254</td>\n",
       "    </tr>\n",
       "    <tr>\n",
       "      <th>3</th>\n",
       "      <td>0.940238</td>\n",
       "    </tr>\n",
       "    <tr>\n",
       "      <th>4</th>\n",
       "      <td>0.328735</td>\n",
       "    </tr>\n",
       "  </tbody>\n",
       "</table>\n",
       "</div>"
      ],
      "text/plain": [
       "          0\n",
       "0  0.439361\n",
       "1  0.453460\n",
       "2  0.392254\n",
       "3  0.940238\n",
       "4  0.328735"
      ]
     },
     "execution_count": 6,
     "metadata": {},
     "output_type": "execute_result"
    }
   ],
   "source": [
    "XGB_prediction_test.head()"
   ]
  },
  {
   "cell_type": "code",
   "execution_count": 7,
   "id": "substantial-spouse",
   "metadata": {},
   "outputs": [],
   "source": [
    "predicted_test = np.array(XGB_prediction_test).astype('float32')"
   ]
  },
  {
   "cell_type": "code",
   "execution_count": 8,
   "id": "immediate-property",
   "metadata": {},
   "outputs": [
    {
     "data": {
      "text/plain": [
       "array([[0.43936083],\n",
       "       [0.45345974],\n",
       "       [0.39225423],\n",
       "       ...,\n",
       "       [0.32259288],\n",
       "       [0.32540217],\n",
       "       [0.3610658 ]], dtype=float32)"
      ]
     },
     "execution_count": 8,
     "metadata": {},
     "output_type": "execute_result"
    }
   ],
   "source": [
    "predicted_test"
   ]
  },
  {
   "cell_type": "code",
   "execution_count": 9,
   "id": "monetary-recommendation",
   "metadata": {},
   "outputs": [
    {
     "data": {
      "text/plain": [
       "26453"
      ]
     },
     "execution_count": 9,
     "metadata": {},
     "output_type": "execute_result"
    }
   ],
   "source": [
    "len(XGB_prediction_test)"
   ]
  },
  {
   "cell_type": "code",
   "execution_count": 10,
   "id": "nonprofit-sperm",
   "metadata": {},
   "outputs": [
    {
     "data": {
      "text/plain": [
       "26453"
      ]
     },
     "execution_count": 10,
     "metadata": {},
     "output_type": "execute_result"
    }
   ],
   "source": [
    "len(predicted_test)"
   ]
  },
  {
   "cell_type": "code",
   "execution_count": 11,
   "id": "suited-kennedy",
   "metadata": {},
   "outputs": [],
   "source": [
    "bucket = 'bnds-sagemaker-sp'  \n",
    "prefix = 'XGBoost-Classifier' \n",
    "y_test = pd.read_csv('s3://{}/{}/test/y-test.csv'.format(bucket, prefix), header=None)"
   ]
  },
  {
   "cell_type": "code",
   "execution_count": 12,
   "id": "pressed-forty",
   "metadata": {},
   "outputs": [],
   "source": [
    "y_test = np.array(y_test)\n",
    "y_test = y_test.reshape(-1,1)"
   ]
  },
  {
   "cell_type": "code",
   "execution_count": 13,
   "id": "ongoing-bedroom",
   "metadata": {},
   "outputs": [
    {
     "data": {
      "text/plain": [
       "array([[0],\n",
       "       [1],\n",
       "       [0],\n",
       "       ...,\n",
       "       [0],\n",
       "       [1],\n",
       "       [0]])"
      ]
     },
     "execution_count": 13,
     "metadata": {},
     "output_type": "execute_result"
    }
   ],
   "source": [
    "y_test"
   ]
  },
  {
   "cell_type": "code",
   "execution_count": 14,
   "id": "modular-broadcast",
   "metadata": {},
   "outputs": [
    {
     "data": {
      "text/plain": [
       "26453"
      ]
     },
     "execution_count": 14,
     "metadata": {},
     "output_type": "execute_result"
    }
   ],
   "source": [
    "len(y_test)"
   ]
  },
  {
   "cell_type": "raw",
   "id": "auburn-captain",
   "metadata": {},
   "source": [
    "## Get Predictions for Training Dataset"
   ]
  },
  {
   "cell_type": "markdown",
   "id": "physical-explorer",
   "metadata": {},
   "source": [
    "The next four cells are for batch inference from a pre-existing model saved in Sagemaker. Turn these cells on or off depending\n",
    "on whether or not you want to use a pre-existing model or a newly created one during this kernel processing."
   ]
  },
  {
   "cell_type": "code",
   "execution_count": 124,
   "id": "similar-burden",
   "metadata": {},
   "outputs": [],
   "source": [
    "from time import gmtime, strftime\n",
    "import sagemaker\n",
    "import boto3\n",
    "\n",
    "Modelname = 'cc-bank-pca-xgboost-random-22-03-2021-16-57' # the fine tuned model name we already have\n",
    "transformJobName = 'xgboost-train-batch-'+ strftime(\"%Y-%m-%d-%H-%M-%S\", gmtime())"
   ]
  },
  {
   "cell_type": "code",
   "execution_count": 125,
   "id": "qualified-winter",
   "metadata": {},
   "outputs": [],
   "source": [
    "client = boto3.client('sagemaker')"
   ]
  },
  {
   "cell_type": "code",
   "execution_count": 126,
   "id": "norwegian-stewart",
   "metadata": {},
   "outputs": [],
   "source": [
    "bucket = 'bnds-sagemaker-sp'  \n",
    "prefix = 'XGBoost-Classifier' \n",
    "\n",
    "# The location of the training dataset\n",
    "batch_input = 's3://{}/{}/train/X-train.csv'.format(bucket,prefix) # training data used for prediction\n",
    "output_location = 's3://{}/{}/output'.format(bucket, prefix)\n",
    "batch_output = output_location"
   ]
  },
  {
   "cell_type": "code",
   "execution_count": 127,
   "id": "helpful-identification",
   "metadata": {},
   "outputs": [],
   "source": [
    "create_batch = client.create_transform_job(\n",
    "    TransformJobName=transformJobName,\n",
    "    ModelName=Modelname,\n",
    "    MaxConcurrentTransforms=0,\n",
    "    MaxPayloadInMB=6,\n",
    "    BatchStrategy='MultiRecord',\n",
    "    TransformInput={\n",
    "        'DataSource': {\n",
    "            'S3DataSource': {\n",
    "                'S3DataType': 'S3Prefix',\n",
    "                'S3Uri': batch_input \n",
    "            }\n",
    "        },\n",
    "        'ContentType': 'text/csv',\n",
    "        'CompressionType': 'None',\n",
    "        'SplitType': 'Line'\n",
    "    },\n",
    "    TransformOutput={\n",
    "        'S3OutputPath': batch_output,\n",
    "        'AssembleWith': 'Line'\n",
    "    },\n",
    "    TransformResources={\n",
    "        'InstanceType': 'ml.m4.xlarge',\n",
    "        'InstanceCount': 1\n",
    "    }\n",
    "    )\n"
   ]
  },
  {
   "cell_type": "markdown",
   "id": "fitting-parcel",
   "metadata": {},
   "source": [
    "The next three cells are for getting batch predictions from a newly created model (one that was created during current kernel processing. Turn these cells off if you used the four cells above for inference from a previously stored model."
   ]
  },
  {
   "cell_type": "code",
   "execution_count": null,
   "id": "official-difference",
   "metadata": {},
   "outputs": [],
   "source": [
    "# Run this cell to get inference from newly created model via a transformer object\n",
    "\n",
    "transformer = Xgboost_classifier.transformer(\n",
    "    instance_count=1, \n",
    "    instance_type='ml.m4.xlarge', \n",
    "    output_path=batch_output\n",
    ")\n",
    "\n",
    "print ('batch transform output uploaded to: {}'.format(batch_output))"
   ]
  },
  {
   "cell_type": "code",
   "execution_count": null,
   "id": "damaged-basement",
   "metadata": {},
   "outputs": [],
   "source": [
    "# The location of the test dataset\n",
    "batch_input = 's3://{}/{}/train/X-train.csv'.format(bucket, prefix)\n",
    "print('location of train dataset used for prediction: {}'.format(batch_input))"
   ]
  },
  {
   "cell_type": "code",
   "execution_count": null,
   "id": "closing-philip",
   "metadata": {},
   "outputs": [],
   "source": [
    "# Initiate the batch transform job by executing the transform() method of the transformer object\n",
    "transformer.transform(\n",
    "    data=batch_input, \n",
    "    data_type='S3Prefix',\n",
    "    content_type='text/csv', \n",
    "    split_type='Line'\n",
    ")\n",
    "transformer.wait()\n"
   ]
  },
  {
   "cell_type": "code",
   "execution_count": 15,
   "id": "equipped-inside",
   "metadata": {},
   "outputs": [],
   "source": [
    "XGB_prediction_train = pd.read_csv('s3://{}/{}/output/X-train.csv.out'.format(bucket, prefix), header=None)\n"
   ]
  },
  {
   "cell_type": "code",
   "execution_count": 16,
   "id": "outstanding-rings",
   "metadata": {},
   "outputs": [
    {
     "data": {
      "text/html": [
       "<div>\n",
       "<style scoped>\n",
       "    .dataframe tbody tr th:only-of-type {\n",
       "        vertical-align: middle;\n",
       "    }\n",
       "\n",
       "    .dataframe tbody tr th {\n",
       "        vertical-align: top;\n",
       "    }\n",
       "\n",
       "    .dataframe thead th {\n",
       "        text-align: right;\n",
       "    }\n",
       "</style>\n",
       "<table border=\"1\" class=\"dataframe\">\n",
       "  <thead>\n",
       "    <tr style=\"text-align: right;\">\n",
       "      <th></th>\n",
       "      <th>0</th>\n",
       "    </tr>\n",
       "  </thead>\n",
       "  <tbody>\n",
       "    <tr>\n",
       "      <th>0</th>\n",
       "      <td>0.358273</td>\n",
       "    </tr>\n",
       "    <tr>\n",
       "      <th>1</th>\n",
       "      <td>0.503616</td>\n",
       "    </tr>\n",
       "    <tr>\n",
       "      <th>2</th>\n",
       "      <td>0.200589</td>\n",
       "    </tr>\n",
       "    <tr>\n",
       "      <th>3</th>\n",
       "      <td>0.263944</td>\n",
       "    </tr>\n",
       "    <tr>\n",
       "      <th>4</th>\n",
       "      <td>0.154745</td>\n",
       "    </tr>\n",
       "  </tbody>\n",
       "</table>\n",
       "</div>"
      ],
      "text/plain": [
       "          0\n",
       "0  0.358273\n",
       "1  0.503616\n",
       "2  0.200589\n",
       "3  0.263944\n",
       "4  0.154745"
      ]
     },
     "execution_count": 16,
     "metadata": {},
     "output_type": "execute_result"
    }
   ],
   "source": [
    "XGB_prediction_train.head()"
   ]
  },
  {
   "cell_type": "code",
   "execution_count": 17,
   "id": "painful-terrorist",
   "metadata": {},
   "outputs": [
    {
     "data": {
      "text/html": [
       "<div>\n",
       "<style scoped>\n",
       "    .dataframe tbody tr th:only-of-type {\n",
       "        vertical-align: middle;\n",
       "    }\n",
       "\n",
       "    .dataframe tbody tr th {\n",
       "        vertical-align: top;\n",
       "    }\n",
       "\n",
       "    .dataframe thead th {\n",
       "        text-align: right;\n",
       "    }\n",
       "</style>\n",
       "<table border=\"1\" class=\"dataframe\">\n",
       "  <thead>\n",
       "    <tr style=\"text-align: right;\">\n",
       "      <th></th>\n",
       "      <th>0</th>\n",
       "    </tr>\n",
       "  </thead>\n",
       "  <tbody>\n",
       "    <tr>\n",
       "      <th>0</th>\n",
       "      <td>0.358273</td>\n",
       "    </tr>\n",
       "    <tr>\n",
       "      <th>1</th>\n",
       "      <td>0.503616</td>\n",
       "    </tr>\n",
       "    <tr>\n",
       "      <th>2</th>\n",
       "      <td>0.200589</td>\n",
       "    </tr>\n",
       "    <tr>\n",
       "      <th>3</th>\n",
       "      <td>0.263944</td>\n",
       "    </tr>\n",
       "    <tr>\n",
       "      <th>4</th>\n",
       "      <td>0.154745</td>\n",
       "    </tr>\n",
       "    <tr>\n",
       "      <th>...</th>\n",
       "      <td>...</td>\n",
       "    </tr>\n",
       "    <tr>\n",
       "      <th>211622</th>\n",
       "      <td>0.350128</td>\n",
       "    </tr>\n",
       "    <tr>\n",
       "      <th>211623</th>\n",
       "      <td>0.290991</td>\n",
       "    </tr>\n",
       "    <tr>\n",
       "      <th>211624</th>\n",
       "      <td>0.158580</td>\n",
       "    </tr>\n",
       "    <tr>\n",
       "      <th>211625</th>\n",
       "      <td>0.348934</td>\n",
       "    </tr>\n",
       "    <tr>\n",
       "      <th>211626</th>\n",
       "      <td>0.352346</td>\n",
       "    </tr>\n",
       "  </tbody>\n",
       "</table>\n",
       "<p>211627 rows × 1 columns</p>\n",
       "</div>"
      ],
      "text/plain": [
       "               0\n",
       "0       0.358273\n",
       "1       0.503616\n",
       "2       0.200589\n",
       "3       0.263944\n",
       "4       0.154745\n",
       "...          ...\n",
       "211622  0.350128\n",
       "211623  0.290991\n",
       "211624  0.158580\n",
       "211625  0.348934\n",
       "211626  0.352346\n",
       "\n",
       "[211627 rows x 1 columns]"
      ]
     },
     "execution_count": 17,
     "metadata": {},
     "output_type": "execute_result"
    }
   ],
   "source": [
    "XGB_prediction_train"
   ]
  },
  {
   "cell_type": "code",
   "execution_count": 18,
   "id": "automated-judge",
   "metadata": {},
   "outputs": [],
   "source": [
    "predict_train = np.array(XGB_prediction_train).astype('float32')"
   ]
  },
  {
   "cell_type": "code",
   "execution_count": 19,
   "id": "rocky-presence",
   "metadata": {},
   "outputs": [
    {
     "data": {
      "text/plain": [
       "array([[0.3582734 ],\n",
       "       [0.5036163 ],\n",
       "       [0.20058927],\n",
       "       ...,\n",
       "       [0.15857975],\n",
       "       [0.34893402],\n",
       "       [0.35234633]], dtype=float32)"
      ]
     },
     "execution_count": 19,
     "metadata": {},
     "output_type": "execute_result"
    }
   ],
   "source": [
    "predict_train"
   ]
  },
  {
   "cell_type": "code",
   "execution_count": 20,
   "id": "spiritual-thesaurus",
   "metadata": {},
   "outputs": [],
   "source": [
    "bucket = 'bnds-sagemaker-sp'  \n",
    "prefix = 'XGBoost-Classifier' \n",
    "y_train = pd.read_csv('s3://{}/{}/train/y-train.csv'.format(bucket, prefix), header=None)"
   ]
  },
  {
   "cell_type": "code",
   "execution_count": 21,
   "id": "nonprofit-times",
   "metadata": {},
   "outputs": [],
   "source": [
    "y_train = np.array(y_train)\n",
    "y_train = y_train.reshape(-1,1)"
   ]
  },
  {
   "cell_type": "code",
   "execution_count": 22,
   "id": "continuous-concern",
   "metadata": {},
   "outputs": [
    {
     "data": {
      "text/plain": [
       "211627"
      ]
     },
     "execution_count": 22,
     "metadata": {},
     "output_type": "execute_result"
    }
   ],
   "source": [
    "len(y_train)"
   ]
  },
  {
   "cell_type": "code",
   "execution_count": 23,
   "id": "downtown-while",
   "metadata": {},
   "outputs": [
    {
     "data": {
      "text/plain": [
       "array([[0],\n",
       "       [1],\n",
       "       [0],\n",
       "       ...,\n",
       "       [0],\n",
       "       [0],\n",
       "       [0]])"
      ]
     },
     "execution_count": 23,
     "metadata": {},
     "output_type": "execute_result"
    }
   ],
   "source": [
    "y_train"
   ]
  },
  {
   "cell_type": "markdown",
   "id": "photographic-france",
   "metadata": {},
   "source": [
    "## Get Predictions for Validation Dataset"
   ]
  },
  {
   "cell_type": "markdown",
   "id": "documentary-collapse",
   "metadata": {},
   "source": [
    "The next four cells are for batch inference from a pre-existing model saved in Sagemaker. Turn these cells on or off depending\n",
    "on whether or not you want to use a pre-existing model or a newly created one during this kernel processing."
   ]
  },
  {
   "cell_type": "code",
   "execution_count": 137,
   "id": "sapphire-attribute",
   "metadata": {},
   "outputs": [],
   "source": [
    "from time import gmtime, strftime\n",
    "import sagemaker\n",
    "import boto3\n",
    "\n",
    "Modelname = 'cc-bank-pca-xgboost-random-22-03-2021-16-57' # the fine tuned model name we already have\n",
    "transformJobName = 'xgboost-valid-batch-'+ strftime(\"%Y-%m-%d-%H-%M-%S\", gmtime())"
   ]
  },
  {
   "cell_type": "code",
   "execution_count": 138,
   "id": "divided-river",
   "metadata": {},
   "outputs": [],
   "source": [
    "client = boto3.client('sagemaker')"
   ]
  },
  {
   "cell_type": "code",
   "execution_count": 139,
   "id": "protective-filling",
   "metadata": {},
   "outputs": [],
   "source": [
    "bucket = 'bnds-sagemaker-sp'  \n",
    "prefix = 'XGBoost-Classifier' \n",
    "\n",
    "# The location of the validation dataset\n",
    "batch_input = 's3://{}/{}/valid/X-valid.csv'.format(bucket,prefix) # validation data used for prediction\n",
    "output_location = 's3://{}/{}/output'.format(bucket, prefix)\n",
    "batch_output = output_location"
   ]
  },
  {
   "cell_type": "code",
   "execution_count": 140,
   "id": "variable-production",
   "metadata": {},
   "outputs": [],
   "source": [
    "create_batch = client.create_transform_job(\n",
    "    TransformJobName=transformJobName,\n",
    "    ModelName=Modelname,\n",
    "    MaxConcurrentTransforms=0,\n",
    "    MaxPayloadInMB=6,\n",
    "    BatchStrategy='MultiRecord',\n",
    "    TransformInput={\n",
    "        'DataSource': {\n",
    "            'S3DataSource': {\n",
    "                'S3DataType': 'S3Prefix',\n",
    "                'S3Uri': batch_input \n",
    "            }\n",
    "        },\n",
    "        'ContentType': 'text/csv',\n",
    "        'CompressionType': 'None',\n",
    "        'SplitType': 'Line'\n",
    "    },\n",
    "    TransformOutput={\n",
    "        'S3OutputPath': batch_output,\n",
    "        'AssembleWith': 'Line'\n",
    "    },\n",
    "    TransformResources={\n",
    "        'InstanceType': 'ml.m4.xlarge',\n",
    "        'InstanceCount': 1\n",
    "    }\n",
    "    )\n"
   ]
  },
  {
   "cell_type": "markdown",
   "id": "offensive-frederick",
   "metadata": {},
   "source": [
    "The next three cells are for getting batch predictions from a newly created model (one that was created during current kernel processing. Turn these cells off if you used the four cells above for inference from a previously stored model."
   ]
  },
  {
   "cell_type": "code",
   "execution_count": null,
   "id": "vulnerable-stretch",
   "metadata": {},
   "outputs": [],
   "source": [
    "# Run this cell to get inference from newly created model via a transformer object\n",
    "\n",
    "transformer = Xgboost_classifier.transformer(\n",
    "    instance_count=1, \n",
    "    instance_type='ml.m4.xlarge', \n",
    "    output_path=batch_output\n",
    ")\n",
    "\n",
    "print ('batch transform output uploaded to: {}'.format(batch_output))"
   ]
  },
  {
   "cell_type": "code",
   "execution_count": null,
   "id": "working-uniform",
   "metadata": {},
   "outputs": [],
   "source": [
    "# The location of the test dataset\n",
    "batch_input = 's3://{}/{}/valid/X-valid.csv'.format(bucket, prefix)\n",
    "print('valid data uploaded to: {}'.format(batch_input))"
   ]
  },
  {
   "cell_type": "code",
   "execution_count": null,
   "id": "viral-standard",
   "metadata": {},
   "outputs": [],
   "source": [
    "# Initiate the batch transform job by executing the transform() method of the transformer object\n",
    "transformer.transform(\n",
    "    data=batch_input, \n",
    "    data_type='S3Prefix',\n",
    "    content_type='text/csv', \n",
    "    split_type='Line'\n",
    ")\n",
    "transformer.wait()\n"
   ]
  },
  {
   "cell_type": "code",
   "execution_count": 24,
   "id": "better-collaboration",
   "metadata": {},
   "outputs": [],
   "source": [
    "XGB_prediction_valid = pd.read_csv('s3://{}/{}/output/X-valid.csv.out'.format(bucket, prefix), header=None)"
   ]
  },
  {
   "cell_type": "code",
   "execution_count": 25,
   "id": "civic-elements",
   "metadata": {},
   "outputs": [
    {
     "data": {
      "text/html": [
       "<div>\n",
       "<style scoped>\n",
       "    .dataframe tbody tr th:only-of-type {\n",
       "        vertical-align: middle;\n",
       "    }\n",
       "\n",
       "    .dataframe tbody tr th {\n",
       "        vertical-align: top;\n",
       "    }\n",
       "\n",
       "    .dataframe thead th {\n",
       "        text-align: right;\n",
       "    }\n",
       "</style>\n",
       "<table border=\"1\" class=\"dataframe\">\n",
       "  <thead>\n",
       "    <tr style=\"text-align: right;\">\n",
       "      <th></th>\n",
       "      <th>0</th>\n",
       "    </tr>\n",
       "  </thead>\n",
       "  <tbody>\n",
       "    <tr>\n",
       "      <th>0</th>\n",
       "      <td>0.307655</td>\n",
       "    </tr>\n",
       "    <tr>\n",
       "      <th>1</th>\n",
       "      <td>0.350801</td>\n",
       "    </tr>\n",
       "    <tr>\n",
       "      <th>2</th>\n",
       "      <td>0.409710</td>\n",
       "    </tr>\n",
       "    <tr>\n",
       "      <th>3</th>\n",
       "      <td>0.925805</td>\n",
       "    </tr>\n",
       "    <tr>\n",
       "      <th>4</th>\n",
       "      <td>0.329522</td>\n",
       "    </tr>\n",
       "  </tbody>\n",
       "</table>\n",
       "</div>"
      ],
      "text/plain": [
       "          0\n",
       "0  0.307655\n",
       "1  0.350801\n",
       "2  0.409710\n",
       "3  0.925805\n",
       "4  0.329522"
      ]
     },
     "execution_count": 25,
     "metadata": {},
     "output_type": "execute_result"
    }
   ],
   "source": [
    "XGB_prediction_valid.head()"
   ]
  },
  {
   "cell_type": "code",
   "execution_count": 26,
   "id": "harmful-australian",
   "metadata": {},
   "outputs": [
    {
     "data": {
      "text/html": [
       "<div>\n",
       "<style scoped>\n",
       "    .dataframe tbody tr th:only-of-type {\n",
       "        vertical-align: middle;\n",
       "    }\n",
       "\n",
       "    .dataframe tbody tr th {\n",
       "        vertical-align: top;\n",
       "    }\n",
       "\n",
       "    .dataframe thead th {\n",
       "        text-align: right;\n",
       "    }\n",
       "</style>\n",
       "<table border=\"1\" class=\"dataframe\">\n",
       "  <thead>\n",
       "    <tr style=\"text-align: right;\">\n",
       "      <th></th>\n",
       "      <th>0</th>\n",
       "    </tr>\n",
       "  </thead>\n",
       "  <tbody>\n",
       "    <tr>\n",
       "      <th>0</th>\n",
       "      <td>0.307655</td>\n",
       "    </tr>\n",
       "    <tr>\n",
       "      <th>1</th>\n",
       "      <td>0.350801</td>\n",
       "    </tr>\n",
       "    <tr>\n",
       "      <th>2</th>\n",
       "      <td>0.409710</td>\n",
       "    </tr>\n",
       "    <tr>\n",
       "      <th>3</th>\n",
       "      <td>0.925805</td>\n",
       "    </tr>\n",
       "    <tr>\n",
       "      <th>4</th>\n",
       "      <td>0.329522</td>\n",
       "    </tr>\n",
       "    <tr>\n",
       "      <th>...</th>\n",
       "      <td>...</td>\n",
       "    </tr>\n",
       "    <tr>\n",
       "      <th>26449</th>\n",
       "      <td>0.282727</td>\n",
       "    </tr>\n",
       "    <tr>\n",
       "      <th>26450</th>\n",
       "      <td>0.893769</td>\n",
       "    </tr>\n",
       "    <tr>\n",
       "      <th>26451</th>\n",
       "      <td>0.296423</td>\n",
       "    </tr>\n",
       "    <tr>\n",
       "      <th>26452</th>\n",
       "      <td>0.085157</td>\n",
       "    </tr>\n",
       "    <tr>\n",
       "      <th>26453</th>\n",
       "      <td>0.106198</td>\n",
       "    </tr>\n",
       "  </tbody>\n",
       "</table>\n",
       "<p>26454 rows × 1 columns</p>\n",
       "</div>"
      ],
      "text/plain": [
       "              0\n",
       "0      0.307655\n",
       "1      0.350801\n",
       "2      0.409710\n",
       "3      0.925805\n",
       "4      0.329522\n",
       "...         ...\n",
       "26449  0.282727\n",
       "26450  0.893769\n",
       "26451  0.296423\n",
       "26452  0.085157\n",
       "26453  0.106198\n",
       "\n",
       "[26454 rows x 1 columns]"
      ]
     },
     "execution_count": 26,
     "metadata": {},
     "output_type": "execute_result"
    }
   ],
   "source": [
    "XGB_prediction_valid"
   ]
  },
  {
   "cell_type": "code",
   "execution_count": 27,
   "id": "proper-street",
   "metadata": {},
   "outputs": [],
   "source": [
    "predict_valid = np.array(XGB_prediction_valid).astype('float32')"
   ]
  },
  {
   "cell_type": "code",
   "execution_count": 28,
   "id": "healthy-workstation",
   "metadata": {},
   "outputs": [
    {
     "data": {
      "text/plain": [
       "array([[0.30765548],\n",
       "       [0.3508012 ],\n",
       "       [0.40971035],\n",
       "       ...,\n",
       "       [0.29642305],\n",
       "       [0.0851574 ],\n",
       "       [0.10619846]], dtype=float32)"
      ]
     },
     "execution_count": 28,
     "metadata": {},
     "output_type": "execute_result"
    }
   ],
   "source": [
    "predict_valid"
   ]
  },
  {
   "cell_type": "code",
   "execution_count": 29,
   "id": "joint-cycle",
   "metadata": {},
   "outputs": [],
   "source": [
    "bucket = 'bnds-sagemaker-sp'  \n",
    "prefix = 'XGBoost-Classifier' \n",
    "y_valid = pd.read_csv('s3://{}/{}/valid/y-valid.csv'.format(bucket, prefix), header=None)"
   ]
  },
  {
   "cell_type": "code",
   "execution_count": 30,
   "id": "center-hindu",
   "metadata": {},
   "outputs": [],
   "source": [
    "y_valid = np.array(y_valid)\n",
    "y_valid = y_valid.reshape(-1,1)"
   ]
  },
  {
   "cell_type": "code",
   "execution_count": 31,
   "id": "transsexual-explanation",
   "metadata": {},
   "outputs": [
    {
     "data": {
      "text/plain": [
       "array([[0],\n",
       "       [0],\n",
       "       [0],\n",
       "       ...,\n",
       "       [0],\n",
       "       [0],\n",
       "       [0]])"
      ]
     },
     "execution_count": 31,
     "metadata": {},
     "output_type": "execute_result"
    }
   ],
   "source": [
    "y_valid"
   ]
  },
  {
   "cell_type": "markdown",
   "id": "hybrid-williams",
   "metadata": {},
   "source": [
    "## Plots for Train, Valid and Test"
   ]
  },
  {
   "cell_type": "code",
   "execution_count": 34,
   "id": "approved-county",
   "metadata": {},
   "outputs": [],
   "source": [
    "# generate a no skill prediction (majority class)\n",
    "ns_probs = [0 for _ in range(len(y_test))]\n",
    "# calculate roc curves\n",
    "ns_fpr, ns_tpr, _ = roc_curve(y_test, ns_probs)\n",
    "lr_fpr, lr_tpr, _ = roc_curve(y_test, predicted_test)\n",
    "tr_fpr, tr_tpr, _ = roc_curve(y_train, predict_train)\n",
    "vr_fpr, vr_tpr, _ = roc_curve(y_valid, predict_valid)"
   ]
  },
  {
   "cell_type": "code",
   "execution_count": 35,
   "id": "deadly-preservation",
   "metadata": {},
   "outputs": [
    {
     "data": {
      "image/png": "[encoded data removed]",
      "text/plain": [
       "<Figure size 432x288 with 1 Axes>"
      ]
     },
     "metadata": {
      "needs_background": "light"
     },
     "output_type": "display_data"
    }
   ],
   "source": [
    "# plot the roc curve for the model\n",
    "plt.plot(ns_fpr, ns_tpr, linestyle='--', label='No Skill')\n",
    "plt.plot(lr_fpr, lr_tpr, marker='.', label='Y-Test')\n",
    "plt.plot(tr_fpr, tr_tpr, marker='+', label='Y-Train')\n",
    "plt.plot(vr_fpr, vr_tpr, marker='x', label='Y-Valid') \n",
    "\n",
    "# axis labels\n",
    "plt.xlabel('False Positive Rate')\n",
    "plt.ylabel('True Positive Rate')\n",
    "# show the legend\n",
    "plt.legend()\n",
    "# title\n",
    "plt.title('ROC Curve')\n",
    "# show the plot\n",
    "plt.show()"
   ]
  },
  {
   "cell_type": "code",
   "execution_count": 36,
   "id": "homeless-toyota",
   "metadata": {},
   "outputs": [
    {
     "name": "stdout",
     "output_type": "stream",
     "text": [
      "AUC Test:  0.6587139937824568\n",
      "AUC Validation:  0.6601030169714972\n",
      "AUC Training:  0.6944725743945233\n"
     ]
    }
   ],
   "source": [
    "auc_test = roc_auc_score(y_test, predicted_test)\n",
    "print('AUC Test: ',auc_test)\n",
    "auc_valid = roc_auc_score(y_valid, predict_valid)\n",
    "print('AUC Validation: ',auc_valid)\n",
    "auc_train = roc_auc_score(y_train, predict_train)\n",
    "print('AUC Training: ',auc_train)\n"
   ]
  },
  {
   "cell_type": "markdown",
   "id": "steady-current",
   "metadata": {},
   "source": [
    "## Confusion Matrix for Training, Validation, and Test datasets"
   ]
  },
  {
   "cell_type": "code",
   "execution_count": 37,
   "id": "cooked-windows",
   "metadata": {},
   "outputs": [],
   "source": [
    "# round predictions for visualization in confusion matrix\n",
    "predict_train = np.rint(predict_train).astype(int)\n",
    "predict_valid = np.rint(predict_valid).astype(int)\n",
    "predicted_test = np.rint(predicted_test).astype(int)"
   ]
  },
  {
   "cell_type": "code",
   "execution_count": 38,
   "id": "guilty-planning",
   "metadata": {},
   "outputs": [],
   "source": [
    "def make_confusion_matrix(cf,\n",
    "                          group_names=None,\n",
    "                          categories='auto',\n",
    "                          count=True,\n",
    "                          percent=True,\n",
    "                          cbar=True,\n",
    "                          xyticks=True,\n",
    "                          xyplotlabels=True,\n",
    "                          sum_stats=True,\n",
    "                          figsize=None,\n",
    "                          cmap='Blues',\n",
    "                          title=None):\n",
    "    # CODE TO GENERATE TEXT INSIDE EACH SQUARE\n",
    "    blanks = ['' for i in range(cf.size)]\n",
    "\n",
    "    if group_names and len(group_names)==cf.size:\n",
    "        group_labels = [\"{}\\n\".format(value) for value in group_names]\n",
    "    else:\n",
    "        group_labels = blanks\n",
    "\n",
    "    if count:\n",
    "        group_counts = [\"{0:0.0f}\\n\".format(value) for value in cf.flatten()]\n",
    "    else:\n",
    "        group_counts = blanks\n",
    "\n",
    "    if percent:\n",
    "        group_percentages = [\"{0:.2%}\".format(value) for value in cf.flatten()/np.sum(cf)]\n",
    "    else:\n",
    "        group_percentages = blanks\n",
    "\n",
    "    box_labels = [f\"{v1}{v2}{v3}\".strip() for v1, v2, v3 in zip(group_labels,group_counts,group_percentages)]\n",
    "    box_labels = np.asarray(box_labels).reshape(cf.shape[0],cf.shape[1])\n",
    "\n",
    "\n",
    "    # CODE TO GENERATE SUMMARY STATISTICS & TEXT FOR SUMMARY STATS\n",
    "    if sum_stats:\n",
    "        #Accuracy is sum of diagonal divided by total observations\n",
    "        accuracy  = np.trace(cf) / float(np.sum(cf))\n",
    "\n",
    "        #if it is a binary confusion matrix, show some more stats\n",
    "        if len(cf)==2:\n",
    "            #Metrics for Binary Confusion Matrices\n",
    "            precision = cf[1,1] / sum(cf[:,1])\n",
    "            recall    = cf[1,1] / sum(cf[1,:])\n",
    "            f1_score  = 2*precision*recall / (precision + recall)\n",
    "            stats_text = \"\\n\\nAccuracy={:0.3f}\\nPrecision={:0.3f}\\nRecall={:0.3f}\\nF1 Score={:0.3f}\".format(\n",
    "                accuracy,precision,recall,f1_score)\n",
    "        else:\n",
    "            stats_text = \"\\n\\nAccuracy={:0.3f}\".format(accuracy)\n",
    "    else:\n",
    "        stats_text = \"\"\n",
    "\n",
    "\n",
    "    # SET FIGURE PARAMETERS ACCORDING TO OTHER ARGUMENTS\n",
    "    if figsize==None:\n",
    "        #Get default figure size if not set\n",
    "        figsize = plt.rcParams.get('figure.figsize')\n",
    "\n",
    "    if xyticks==False:\n",
    "        #Do not show categories if xyticks is False\n",
    "        categories=False\n",
    "\n",
    "\n",
    "    # MAKE THE HEATMAP VISUALIZATION\n",
    "    plt.figure(figsize=figsize)\n",
    "    sns.heatmap(cf,annot=box_labels,fmt=\"\",cmap=cmap,cbar=cbar,xticklabels=categories,yticklabels=categories)\n",
    "\n",
    "    if xyplotlabels:\n",
    "        plt.ylabel('True label')\n",
    "        plt.xlabel('Predicted label' + stats_text)\n",
    "    else:\n",
    "        plt.xlabel(stats_text)\n",
    "    \n",
    "    if title:\n",
    "        plt.title(title)"
   ]
  },
  {
   "cell_type": "code",
   "execution_count": 39,
   "id": "furnished-exemption",
   "metadata": {},
   "outputs": [],
   "source": [
    "cm = confusion_matrix(y_train, predict_train)"
   ]
  },
  {
   "cell_type": "code",
   "execution_count": 40,
   "id": "recreational-button",
   "metadata": {},
   "outputs": [
    {
     "data": {
      "image/png": "[encoded data removed]",
      "text/plain": [
       "<Figure size 432x288 with 2 Axes>"
      ]
     },
     "metadata": {
      "needs_background": "light"
     },
     "output_type": "display_data"
    }
   ],
   "source": [
    "labels = ['True Neg', 'False Pos', 'False Neg', 'True Pos']\n",
    "categories = ['Zero', 'One']\n",
    "make_confusion_matrix(cm, \n",
    "                      group_names=labels,\n",
    "                      categories=categories,\n",
    "                      title='Training Dataset')"
   ]
  },
  {
   "cell_type": "code",
   "execution_count": 41,
   "id": "fuzzy-topic",
   "metadata": {},
   "outputs": [],
   "source": [
    "cm = confusion_matrix(y_valid, predict_valid)"
   ]
  },
  {
   "cell_type": "code",
   "execution_count": 42,
   "id": "nasty-effects",
   "metadata": {},
   "outputs": [
    {
     "data": {
      "image/png": "[encoded data removed]",
      "text/plain": [
       "<Figure size 432x288 with 2 Axes>"
      ]
     },
     "metadata": {
      "needs_background": "light"
     },
     "output_type": "display_data"
    }
   ],
   "source": [
    "labels = ['True Neg', 'False Pos', 'False Neg', 'True Pos']\n",
    "categories = ['Zero', 'One']\n",
    "make_confusion_matrix(cm, \n",
    "                      group_names=labels,\n",
    "                      categories=categories,\n",
    "                      title='Validation Dataset')"
   ]
  },
  {
   "cell_type": "code",
   "execution_count": 43,
   "id": "noted-parker",
   "metadata": {},
   "outputs": [],
   "source": [
    "cm = confusion_matrix(y_test, predicted_test)"
   ]
  },
  {
   "cell_type": "code",
   "execution_count": 44,
   "id": "federal-kenya",
   "metadata": {},
   "outputs": [
    {
     "data": {
      "image/png": "[encoded data removed]",
      "text/plain": [
       "<Figure size 432x288 with 2 Axes>"
      ]
     },
     "metadata": {
      "needs_background": "light"
     },
     "output_type": "display_data"
    }
   ],
   "source": [
    "labels = ['True Neg', 'False Pos', 'False Neg', 'True Pos']\n",
    "categories = ['Zero', 'One']\n",
    "make_confusion_matrix(cm, \n",
    "                      group_names=labels,\n",
    "                      categories=categories,\n",
    "                      title='Test Dataset')"
   ]
  }
 ],
 "metadata": {
  "kernelspec": {
   "display_name": "Python 3",
   "language": "python",
   "name": "python3"
  },
  "language_info": {
   "codemirror_mode": {
    "name": "ipython",
    "version": 3
   },
   "file_extension": ".py",
   "mimetype": "text/x-python",
   "name": "python",
   "nbconvert_exporter": "python",
   "pygments_lexer": "ipython3",
   "version": "3.8.5"
  }
 },
 "nbformat": 4,
 "nbformat_minor": 5
}
